{
 "cells": [
  {
   "cell_type": "code",
   "execution_count": 1,
   "metadata": {},
   "outputs": [],
   "source": [
    "from tensorflow.keras.datasets import reuters\n",
    "import tensorflow as tf\n",
    "\n",
    "import numpy as np"
   ]
  },
  {
   "cell_type": "code",
   "execution_count": 2,
   "metadata": {},
   "outputs": [],
   "source": [
    "(train_data, train_labels), (test_data, test_labels) = reuters.load_data()\n",
    "word_indexes = reuters.get_word_index()\n",
    "\n",
    "word_indexes[\"OOV\"] = 0\n",
    "word_indexes[\"START\"] = -1\n",
    "word_indexes[\"PAD\"] = -2\n",
    "index_words = {v: k for k, v in word_indexes.items()}"
   ]
  },
  {
   "cell_type": "code",
   "execution_count": 6,
   "metadata": {},
   "outputs": [
    {
     "name": "stdout",
     "output_type": "stream",
     "text": [
      "30982\n",
      "8982\n"
     ]
    }
   ],
   "source": [
    "# vocab size\n",
    "vocab_size = len(word_indexes)\n",
    "print(vocab_size)\n",
    "print(len(train_data))"
   ]
  },
  {
   "cell_type": "code",
   "execution_count": null,
   "metadata": {},
   "outputs": [],
   "source": [
    "class OneHotGenerator(keras.utils.Sequence):\n",
    "    def __init__(self, )"
   ]
  },
  {
   "cell_type": "code",
   "execution_count": 4,
   "metadata": {},
   "outputs": [
    {
     "name": "stdout",
     "output_type": "stream",
     "text": [
      "1262329\n",
      "[(1, 27595, 28842, 8, 43, 10), (27595, 28842, 8, 43, 10, 447), (28842, 8, 43, 10, 447, 5), (8, 43, 10, 447, 5, 25), (43, 10, 447, 5, 25, 207), (10, 447, 5, 25, 207, 270), (447, 5, 25, 207, 270, 5), (5, 25, 207, 270, 5, 3095), (25, 207, 270, 5, 3095, 111), (207, 270, 5, 3095, 111, 16)]\n"
     ]
    }
   ],
   "source": [
    "window_size = 6\n",
    "embedding_size = 10\n",
    "\n",
    "windows = [\n",
    "    window\n",
    "    for sent in train_data\n",
    "    for window in zip(*[iter(sent[i:]) for i in range(window_size)])\n",
    "]\n",
    "\n",
    "print(len(windows))\n",
    "print(windows[:10])"
   ]
  },
  {
   "cell_type": "code",
   "execution_count": 5,
   "metadata": {},
   "outputs": [
    {
     "name": "stdout",
     "output_type": "stream",
     "text": [
      "(1, 27595, 28842, 8, 43)\n",
      "10\n"
     ]
    }
   ],
   "source": [
    "window_train = [tuple(window[:window_size - 1]) for window in windows]\n",
    "window_labels = [window[window_size - 1] for window in windows]\n",
    "\n",
    "print(window_train[0])\n",
    "print(window_labels[0])"
   ]
  },
  {
   "cell_type": "code",
   "execution_count": null,
   "metadata": {},
   "outputs": [],
   "source": [
    "print([index_words[i-3] for i in window_train[0]])\n",
    "print(index_words[window_labels[0]])"
   ]
  },
  {
   "cell_type": "code",
   "execution_count": null,
   "metadata": {},
   "outputs": [],
   "source": [
    "input_layer = tf.keras.layers.Input(shape=(window_size-1,))\n",
    "embedding = tf.keras.layers.Embedding(vocab_size + 1, embedding_size)(input_layer)\n",
    "flattened = tf.keras.layers.Flatten()(embedding)\n",
    "dense_connected = tf.keras.layers.Dense(10, activation='relu')(flattened)\n",
    "concat = tf.keras.layers.Concatenate()([flattened, dense_connected])\n",
    "prediction = tf.keras.layers.Dense(vocab_size, activation='sigmoid')(concat)\n",
    "\n",
    "model = tf.keras.models.Model(inputs=[input_layer], outputs=[prediction])\n",
    "\n",
    "model.compile('adam', loss='sparse_categorical_crossentropy', metrics=['accuracy'])\n",
    "\n",
    "model.summary()"
   ]
  },
  {
   "cell_type": "code",
   "execution_count": null,
   "metadata": {},
   "outputs": [],
   "source": [
    "test_windows = [\n",
    "    window\n",
    "    for sent in test_data\n",
    "    for window in zip(*[iter(sent[i:]) for i in range(window_size)])\n",
    "]\n",
    "\n",
    "window_test = [tuple(window[:window_size - 1]) for window in test_windows]\n",
    "window_test_labels = [window[window_size - 1:][0] for window in test_windows]\n",
    "window_test_one_hot = onehot_encoder.transform(np.array(window_test_labels).reshape((-1, 1)))\n",
    "\n",
    "print(window_test[0])\n",
    "print(window_test_labels[0])\n",
    "print(window_test_one_hot[0], window_test_one_hot.shape)"
   ]
  },
  {
   "cell_type": "code",
   "execution_count": null,
   "metadata": {},
   "outputs": [],
   "source": [
    "print([index_words[i-3] for i in window_test[0]])\n",
    "print(index_words[window_test_labels[0]-3])"
   ]
  },
  {
   "cell_type": "code",
   "execution_count": null,
   "metadata": {},
   "outputs": [],
   "source": [
    "window_test[0]"
   ]
  },
  {
   "cell_type": "code",
   "execution_count": null,
   "metadata": {},
   "outputs": [],
   "source": []
  },
  {
   "cell_type": "code",
   "execution_count": null,
   "metadata": {},
   "outputs": [],
   "source": []
  }
 ],
 "metadata": {
  "kernelspec": {
   "display_name": "Python 3",
   "language": "python",
   "name": "python3"
  },
  "language_info": {
   "codemirror_mode": {
    "name": "ipython",
    "version": 3
   },
   "file_extension": ".py",
   "mimetype": "text/x-python",
   "name": "python",
   "nbconvert_exporter": "python",
   "pygments_lexer": "ipython3",
   "version": "3.6.8"
  }
 },
 "nbformat": 4,
 "nbformat_minor": 2
}
