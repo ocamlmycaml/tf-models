{
 "cells": [
  {
   "cell_type": "code",
   "execution_count": 1,
   "metadata": {},
   "outputs": [],
   "source": [
    "%matplotlib inline\n",
    "\n",
    "import tensorflow_datasets as tfds\n",
    "import tensorflow as tf\n",
    "\n",
    "import time\n",
    "import numpy as np\n",
    "import seaborn as sns\n",
    "import matplotlib.pyplot as plt\n",
    "\n",
    "sns.set()"
   ]
  },
  {
   "cell_type": "code",
   "execution_count": 2,
   "metadata": {},
   "outputs": [
    {
     "data": {
      "text/plain": [
       "(dict_keys(['test', 'train', 'validation']), tfds.core.DatasetInfo(\n",
       "     name='ted_hrlr_translate',\n",
       "     version=0.0.1,\n",
       "     description='Data sets derived from TED talk transcripts for comparing similar language pairs\n",
       " where one is high resource and the other is low resource.\n",
       " ',\n",
       "     homepage='https://github.com/neulab/word-embeddings-for-nmt',\n",
       "     features=Translation({\n",
       "         'en': Text(shape=(), dtype=tf.string),\n",
       "         'pt': Text(shape=(), dtype=tf.string),\n",
       "     }),\n",
       "     total_num_examples=54781,\n",
       "     splits={\n",
       "         'test': 1803,\n",
       "         'train': 51785,\n",
       "         'validation': 1193,\n",
       "     },\n",
       "     supervised_keys=('pt', 'en'),\n",
       "     citation=\"\"\"@inproceedings{Ye2018WordEmbeddings,\n",
       "       author  = {Ye, Qi and Devendra, Sachan and Matthieu, Felix and Sarguna, Padmanabhan and Graham, Neubig},\n",
       "       title   = {When and Why are pre-trained word embeddings useful for Neural Machine Translation},\n",
       "       booktitle = {HLT-NAACL},\n",
       "       year    = {2018},\n",
       "       }\"\"\",\n",
       "     redistribution_info=,\n",
       " ))"
      ]
     },
     "execution_count": 2,
     "metadata": {},
     "output_type": "execute_result"
    }
   ],
   "source": [
    "examples, metadata = tfds.load(\n",
    "    'ted_hrlr_translate/pt_to_en',\n",
    "    data_dir='./tfds',\n",
    "    with_info=True, as_supervised=True)\n",
    "train_examples, val_examples = examples['train'], examples['validation']\n",
    "\n",
    "examples.keys(), metadata"
   ]
  },
  {
   "cell_type": "code",
   "execution_count": 3,
   "metadata": {},
   "outputs": [
    {
     "data": {
      "text/plain": [
       "(<tf.Tensor: id=168, shape=(), dtype=string, numpy=b'os astr\\xc3\\xb3nomos acreditam que cada estrela da gal\\xc3\\xa1xia tem um planeta , e especulam que at\\xc3\\xa9 um quinto deles tem um planeta do tipo da terra que poder\\xc3\\xa1 ter vida , mas ainda n\\xc3\\xa3o vimos nenhum deles .'>,\n",
       " <tf.Tensor: id=169, shape=(), dtype=string, numpy=b\"astronomers now believe that every star in the galaxy has a planet , and they speculate that up to one fifth of them have an earth-like planet that might be able to harbor life , but we have n't seen any of them .\">)"
      ]
     },
     "execution_count": 3,
     "metadata": {},
     "output_type": "execute_result"
    }
   ],
   "source": [
    "next(iter(train_examples))"
   ]
  },
  {
   "cell_type": "code",
   "execution_count": 4,
   "metadata": {},
   "outputs": [],
   "source": [
    "tokenizer_en = tfds.features.text.SubwordTextEncoder.build_from_corpus(\n",
    "    (en.numpy() for pt, en in train_examples),\n",
    "    target_vocab_size=2**13)\n",
    "\n",
    "tokenizer_pt = tfds.features.text.SubwordTextEncoder.build_from_corpus(\n",
    "    (pt.numpy() for pt, en in train_examples),\n",
    "    target_vocab_size=2**13)"
   ]
  },
  {
   "cell_type": "code",
   "execution_count": 5,
   "metadata": {},
   "outputs": [
    {
     "name": "stdout",
     "output_type": "stream",
     "text": [
      "Tokenized string is [7915, 1248, 7946, 7194, 13, 2799, 7877]\n",
      "The original string: Transformer is awesome.\n",
      "7915 ----> T\n",
      "1248 ----> ran\n",
      "7946 ----> s\n",
      "7194 ----> former_\n",
      "13 ----> is_\n",
      "2799 ----> awesome\n",
      "7877 ----> .\n"
     ]
    }
   ],
   "source": [
    "sample_string = 'Transformer is awesome.'\n",
    "\n",
    "tokenized_string = tokenizer_en.encode(sample_string)\n",
    "print ('Tokenized string is {}'.format(tokenized_string))\n",
    "\n",
    "original_string = tokenizer_en.decode(tokenized_string)\n",
    "print ('The original string: {}'.format(original_string))\n",
    "\n",
    "for ts in tokenized_string:\n",
    "    print ('{} ----> {}'.format(ts, tokenizer_en.decode([ts]).replace(' ', '_')))"
   ]
  },
  {
   "cell_type": "code",
   "execution_count": 6,
   "metadata": {},
   "outputs": [
    {
     "data": {
      "text/plain": [
       "(<tf.Tensor: id=207695, shape=(64, 40), dtype=int64, numpy=\n",
       " array([[8214, 1259,    5, ...,    0,    0,    0],\n",
       "        [8214,  299,   13, ...,    0,    0,    0],\n",
       "        [8214,   59,    8, ...,    0,    0,    0],\n",
       "        ...,\n",
       "        [8214,   95,    3, ...,    0,    0,    0],\n",
       "        [8214, 5157,    1, ...,    0,    0,    0],\n",
       "        [8214, 4479, 7990, ...,    0,    0,    0]])>,\n",
       " <tf.Tensor: id=207696, shape=(64, 40), dtype=int64, numpy=\n",
       " array([[8087,   18,   12, ...,    0,    0,    0],\n",
       "        [8087,  634,   30, ...,    0,    0,    0],\n",
       "        [8087,   16,   13, ...,    0,    0,    0],\n",
       "        ...,\n",
       "        [8087,   12,   20, ...,    0,    0,    0],\n",
       "        [8087,   17, 4981, ...,    0,    0,    0],\n",
       "        [8087,   12, 5453, ...,    0,    0,    0]])>)"
      ]
     },
     "execution_count": 6,
     "metadata": {},
     "output_type": "execute_result"
    }
   ],
   "source": [
    "BUFFER_SIZE = 20000\n",
    "BATCH_SIZE = 64\n",
    "MAX_LENGTH = 40\n",
    "\n",
    "\n",
    "def encode(lang1, lang2, tok1=tokenizer_pt, tok2=tokenizer_en):\n",
    "    lang1 = [tok1.vocab_size] + \\\n",
    "        tok1.encode(lang1.numpy()) + \\\n",
    "        [tok1.vocab_size+1]\n",
    "\n",
    "    lang2 = [tok2.vocab_size] + \\\n",
    "        tok2.encode(lang2.numpy()) + \\\n",
    "        [tok2.vocab_size+1]\n",
    "  \n",
    "    return lang1, lang2\n",
    "\n",
    "def filter_max_length(x, y, max_length=MAX_LENGTH):\n",
    "    return tf.logical_and(tf.size(x) <= max_length,\n",
    "                          tf.size(y) <= max_length)\n",
    "\n",
    "def tf_encode(pt_sent, en_sent):\n",
    "    return tf.py_function(\n",
    "        encode,\n",
    "        [pt_sent, en_sent],\n",
    "        [tf.int64, tf.int64]\n",
    "    )\n",
    "\n",
    "train_dataset = train_examples\\\n",
    "    .map(tf_encode)\\\n",
    "    .filter(filter_max_length)\\\n",
    "    .cache()\\\n",
    "    .shuffle(BUFFER_SIZE)\\\n",
    "    .padded_batch(BATCH_SIZE, padded_shapes=([-1], [-1]))\\\n",
    "    .prefetch(tf.data.experimental.AUTOTUNE)\n",
    "\n",
    "val_dataset = val_examples\\\n",
    "    .map(tf_encode)\\\n",
    "    .filter(filter_max_length)\\\n",
    "    .padded_batch(BATCH_SIZE, padded_shapes=([-1], [-1]))\n",
    "\n",
    "pt_batch, en_batch = next(iter(val_dataset))\n",
    "pt_batch, en_batch"
   ]
  },
  {
   "cell_type": "code",
   "execution_count": 7,
   "metadata": {},
   "outputs": [
    {
     "name": "stdout",
     "output_type": "stream",
     "text": [
      "(1, 50, 512)\n"
     ]
    },
    {
     "data": {
      "image/png": "[encoded data removed]",
      "text/plain": [
       "<Figure size 432x288 with 2 Axes>"
      ]
     },
     "metadata": {
      "needs_background": "light"
     },
     "output_type": "display_data"
    }
   ],
   "source": [
    "# positional encoding - look into this more\n",
    "\n",
    "def get_angles(pos, i, d_model):\n",
    "    angle_rates = 1 / np.power(10000, (2 * (i//2)) / np.float32(d_model))\n",
    "    return pos * angle_rates\n",
    "\n",
    "\n",
    "def positional_encoding(position, d_model):\n",
    "    angle_rads = get_angles(np.arange(position)[:, np.newaxis],\n",
    "                          np.arange(d_model)[np.newaxis, :],\n",
    "                          d_model)\n",
    "  \n",
    "    # apply sin to even indices in the array; 2i\n",
    "    angle_rads[:, 0::2] = np.sin(angle_rads[:, 0::2])\n",
    "  \n",
    "    # apply cos to odd indices in the array; 2i+1\n",
    "    angle_rads[:, 1::2] = np.cos(angle_rads[:, 1::2])\n",
    "    \n",
    "    pos_encoding = angle_rads[np.newaxis, ...]\n",
    "    \n",
    "    return tf.cast(pos_encoding, dtype=tf.float32)\n",
    "\n",
    "\n",
    "pos_encoding = positional_encoding(50, 512)\n",
    "print(pos_encoding.shape)\n",
    "\n",
    "plt.pcolormesh(pos_encoding[0], cmap='RdBu')\n",
    "plt.xlabel('Depth')\n",
    "plt.xlim((0, 512))\n",
    "plt.ylabel('Position')\n",
    "plt.colorbar()\n",
    "plt.show()"
   ]
  },
  {
   "cell_type": "code",
   "execution_count": 8,
   "metadata": {},
   "outputs": [
    {
     "data": {
      "image/png": "[encoded data removed]",
      "text/plain": [
       "<Figure size 432x288 with 1 Axes>"
      ]
     },
     "metadata": {
      "needs_background": "light"
     },
     "output_type": "display_data"
    }
   ],
   "source": [
    "d2_pos_encoding = positional_encoding(12, 2)[0]\n",
    "added = np.array([1.414, 1.414]) + d2_pos_encoding.numpy()\n",
    "\n",
    "plt.plot(d2_pos_encoding[:, 0], d2_pos_encoding[:, 1], 'o')\n",
    "for i, xy in enumerate(d2_pos_encoding):\n",
    "    xy = (float(xy[0]), float(xy[1]))\n",
    "    label = f'{i}' #': ({xy[0]:.2f}, {xy[1]:.2f})'\n",
    "    plt.annotate(\n",
    "        label,\n",
    "        xy,\n",
    "        textcoords='offset points',\n",
    "        xytext=(0, 10),\n",
    "        ha='center')\n",
    "\n",
    "plt.plot(added[:, 0], added[:, 1], 'o')\n",
    "for i, xy in enumerate(added):\n",
    "    xy = (float(xy[0]), float(xy[1]))\n",
    "    label = f'{i}' #': ({xy[0]:.2f}, {xy[1]:.2f})'\n",
    "    plt.annotate(\n",
    "        label,\n",
    "        xy,\n",
    "        textcoords='offset points',\n",
    "        xytext=(0, 10),\n",
    "        ha='center')\n",
    "\n",
    "plt.xlabel('Depth')\n",
    "plt.ylabel('Position')\n",
    "plt.show()"
   ]
  },
  {
   "cell_type": "code",
   "execution_count": 9,
   "metadata": {},
   "outputs": [
    {
     "data": {
      "text/plain": [
       "<tf.Tensor: id=207924, shape=(3, 1, 1, 5), dtype=float32, numpy=\n",
       "array([[[[0., 0., 1., 1., 0.]]],\n",
       "\n",
       "\n",
       "       [[[0., 0., 0., 1., 1.]]],\n",
       "\n",
       "\n",
       "       [[[1., 1., 1., 0., 0.]]]], dtype=float32)>"
      ]
     },
     "execution_count": 9,
     "metadata": {},
     "output_type": "execute_result"
    }
   ],
   "source": [
    "# padding mask\n",
    "\n",
    "def create_padding_mask(seq):\n",
    "    seq = tf.cast(tf.math.equal(seq, 0), tf.float32)\n",
    "  \n",
    "    # add extra dimensions to add the padding\n",
    "    # to the attention logits.\n",
    "    return seq[:, tf.newaxis, tf.newaxis, :]  # (batch_size, 1, 1, seq_len)\n",
    "\n",
    "x = tf.constant([[7, 6, 0, 0, 1], [1, 2, 3, 0, 0], [0, 0, 0, 4, 5]])\n",
    "create_padding_mask(x)\n"
   ]
  },
  {
   "cell_type": "code",
   "execution_count": 10,
   "metadata": {},
   "outputs": [
    {
     "data": {
      "text/plain": [
       "<tf.Tensor: id=207939, shape=(3, 3), dtype=float32, numpy=\n",
       "array([[0., 1., 1.],\n",
       "       [0., 0., 1.],\n",
       "       [0., 0., 0.]], dtype=float32)>"
      ]
     },
     "execution_count": 10,
     "metadata": {},
     "output_type": "execute_result"
    }
   ],
   "source": [
    "def create_look_ahead_mask(size):\n",
    "    mask = 1 - tf.linalg.band_part(tf.ones((size, size)), -1, 0)\n",
    "    return mask  # (seq_len, seq_len)\n",
    "\n",
    "x = tf.random.uniform((1, 3))\n",
    "temp = create_look_ahead_mask(x.shape[1])\n",
    "temp"
   ]
  },
  {
   "cell_type": "code",
   "execution_count": 11,
   "metadata": {},
   "outputs": [
    {
     "name": "stdout",
     "output_type": "stream",
     "text": [
      "QK^T\n",
      "tf.Tensor(\n",
      "[[[ 0.        0.       57.735027 57.735027]\n",
      "  [ 0.       57.735027  0.        0.      ]\n",
      "  [57.735027 57.735027  0.        0.      ]]], shape=(1, 3, 4), dtype=float32)\n",
      "Attention weights are:\n",
      "tf.Tensor(\n",
      "[[[0.  0.  0.5 0.5]\n",
      "  [0.  1.  0.  0. ]\n",
      "  [0.5 0.5 0.  0. ]]], shape=(1, 3, 4), dtype=float32)\n",
      "Output is:\n",
      "tf.Tensor(\n",
      "[[[550.    5.5]\n",
      "  [ 10.    0. ]\n",
      "  [  5.5   0. ]]], shape=(1, 3, 2), dtype=float32)\n"
     ]
    }
   ],
   "source": [
    "def qk(q, k):\n",
    "    matmul_qk = tf.matmul(q, k, transpose_b=True)  # Q * K^T\n",
    "    \n",
    "    # scale that bitch\n",
    "    dk = tf.cast(tf.shape(k)[-1], tf.float32)\n",
    "    return matmul_qk / tf.math.sqrt(dk)  # (Q * K^T / sqrt(dk))\n",
    "\n",
    "def scaled_dotproduct_attention(q, k, v, mask=None):\n",
    "    \"\"\"Calculate attention weights\n",
    "    q, k, v must have matching leading dims\n",
    "    k, v must have matching penultimate dimension\n",
    "\n",
    "    mask has different shapes depending on its type (padding or look ahead)\n",
    "    but it must be broadcastable for addition. WHAT DOES THAT MEAN WHAT\n",
    "    \n",
    "    Args:\n",
    "        q: query shape == (.., seq_len_q, depth)\n",
    "        k: key shape == (.., seq_len_k, depth)\n",
    "        v: value shape == (.., seq_len_v, depth_v) where seq_len_k == seq_len_v\n",
    "        mask: float tensor with shape broadcastable\n",
    "              to (.., seq_len_q, seq_len_k). Defaults to None\n",
    "    \n",
    "    Returns:\n",
    "        output, attention_weights\n",
    "    \"\"\"\n",
    "    scaled_attention_logits = qk(q, k)  # (..., seq_len_q, seq_len_k)\n",
    "    \n",
    "    # add the mask to the scaled tensor.\n",
    "    if mask is not None:\n",
    "        scaled_attention_logits += (mask * -1e9)  # (..., seq_len_q, seq_len_k)\n",
    "    \n",
    "    # softmax normalized to last axis\n",
    "    attention_weights = tf.nn.softmax(scaled_attention_logits, axis=-1)  # (..., seq_len_q, seq_len_k)\n",
    "    \n",
    "    output = tf.matmul(attention_weights, v)  # (..., seq_len_q, depth_v)\n",
    "    \n",
    "    return output, attention_weights\n",
    "\n",
    "\n",
    "def print_out(q, k, v, mask=None):\n",
    "    temp_out, temp_attn = scaled_dotproduct_attention(q, k, v, mask=mask)\n",
    "    print(\"QK^T\")\n",
    "    print(qk(q, k))\n",
    "    print(\"Attention weights are:\")\n",
    "    print(temp_attn)\n",
    "    print(\"Output is:\")\n",
    "    print(temp_out)\n",
    "    \n",
    "\n",
    "np.set_printoptions(suppress=True)\n",
    "\n",
    "temp_k = tf.constant([[[10,0,0],\n",
    "                       [0,10,0],\n",
    "                       [0,0,10],\n",
    "                       [0,0,10]]], dtype=tf.float32)  # (4, 3)\n",
    "\n",
    "temp_v = tf.constant([[[   1,0],\n",
    "                       [  10,0],\n",
    "                       [ 100,5],\n",
    "                       [1000,6]]], dtype=tf.float32)  # (4, 2)\n",
    "\n",
    "# This `query` aligns with the second `key`,\n",
    "# so the second `value` is returned.\n",
    "temp_q = tf.constant([[[0, 0, 10],\n",
    "                       [0, 10, 0],\n",
    "                       [10, 10, 0]]], dtype=tf.float32)  # (3, 3)\n",
    "print_out(temp_q, temp_k, temp_v)"
   ]
  },
  {
   "cell_type": "code",
   "execution_count": 12,
   "metadata": {},
   "outputs": [
    {
     "name": "stdout",
     "output_type": "stream",
     "text": [
      "QK^T\n",
      "tf.Tensor(\n",
      "[[[ 0.        0.       57.735027 57.735027]\n",
      "  [ 0.       57.735027  0.        0.      ]\n",
      "  [57.735027 57.735027  0.        0.      ]]], shape=(1, 3, 4), dtype=float32)\n",
      "Attention weights are:\n",
      "tf.Tensor(\n",
      "[[[0.  0.  0.  1. ]\n",
      "  [0.5 0.  0.  0.5]\n",
      "  [1.  0.  0.  0. ]]], shape=(1, 3, 4), dtype=float32)\n",
      "Output is:\n",
      "tf.Tensor(\n",
      "[[[1000.     6. ]\n",
      "  [ 500.5    3. ]\n",
      "  [   1.     0. ]]], shape=(1, 3, 2), dtype=float32)\n"
     ]
    }
   ],
   "source": [
    "print_out(temp_q, temp_k, temp_v, mask=np.array([0.0, 1.0, 1.0, 0.0]))"
   ]
  },
  {
   "cell_type": "code",
   "execution_count": 13,
   "metadata": {},
   "outputs": [
    {
     "name": "stdout",
     "output_type": "stream",
     "text": [
      "QK^T\n",
      "tf.Tensor(\n",
      "[[[ 57.735027   0.         0.      ]\n",
      "  [  0.        57.735027  57.735027]\n",
      "  [  0.        57.735027 115.470055]]], shape=(1, 3, 3), dtype=float32)\n",
      "Attention weights are:\n",
      "tf.Tensor(\n",
      "[[[1.  0.  0. ]\n",
      "  [0.  0.5 0.5]\n",
      "  [0.  0.  1. ]]], shape=(1, 3, 3), dtype=float32)\n",
      "Output is:\n",
      "tf.Tensor(\n",
      "[[[ 0.  0. 10.]\n",
      "  [ 5. 10.  0.]\n",
      "  [10. 10.  0.]]], shape=(1, 3, 3), dtype=float32)\n"
     ]
    }
   ],
   "source": [
    "print_out(temp_q, temp_q, temp_q)"
   ]
  },
  {
   "cell_type": "code",
   "execution_count": 14,
   "metadata": {},
   "outputs": [
    {
     "name": "stdout",
     "output_type": "stream",
     "text": [
      "QK^T\n",
      "tf.Tensor(\n",
      "[[[     0.70710677      7.071068       70.71068       707.1068    ]\n",
      "  [     7.071068       70.71068       707.1068       7071.068     ]\n",
      "  [    70.71068       707.1068       7088.7456      70731.89      ]\n",
      "  [   707.1068       7071.068       70731.89       707132.25      ]]], shape=(1, 4, 4), dtype=float32)\n",
      "Attention weights are:\n",
      "tf.Tensor(\n",
      "[[[0. 0. 0. 1.]\n",
      "  [0. 0. 0. 1.]\n",
      "  [0. 0. 0. 1.]\n",
      "  [0. 0. 0. 1.]]], shape=(1, 4, 4), dtype=float32)\n",
      "Output is:\n",
      "tf.Tensor(\n",
      "[[[1000.    6.]\n",
      "  [1000.    6.]\n",
      "  [1000.    6.]\n",
      "  [1000.    6.]]], shape=(1, 4, 2), dtype=float32)\n"
     ]
    }
   ],
   "source": [
    "print_out(temp_v, temp_v, temp_v)  # softmax makes attention weights bias the largest query vectors "
   ]
  },
  {
   "cell_type": "code",
   "execution_count": 15,
   "metadata": {},
   "outputs": [
    {
     "name": "stdout",
     "output_type": "stream",
     "text": [
      "QK^T\n",
      "tf.Tensor(\n",
      "[[[     0.70710677      7.071068       70.71068       707.1068    ]\n",
      "  [     7.071068       70.71068       707.1068       7071.068     ]\n",
      "  [    70.71068       707.1068       7088.7456      70731.89      ]\n",
      "  [   707.1068       7071.068       70731.89       707132.25      ]]], shape=(1, 4, 4), dtype=float32)\n",
      "Attention weights are:\n",
      "tf.Tensor(\n",
      "[[[0. 0. 1. 0.]\n",
      "  [0. 0. 1. 0.]\n",
      "  [0. 0. 1. 0.]\n",
      "  [0. 0. 1. 0.]]], shape=(1, 4, 4), dtype=float32)\n",
      "Output is:\n",
      "tf.Tensor(\n",
      "[[[100.   5.]\n",
      "  [100.   5.]\n",
      "  [100.   5.]\n",
      "  [100.   5.]]], shape=(1, 4, 2), dtype=float32)\n"
     ]
    }
   ],
   "source": [
    "print_out(temp_v, temp_v, temp_v, mask=np.array([1.0, 0.0, 0.0, 1.0]))"
   ]
  },
  {
   "cell_type": "code",
   "execution_count": 16,
   "metadata": {},
   "outputs": [
    {
     "name": "stdout",
     "output_type": "stream",
     "text": [
      "QK^T\n",
      "tf.Tensor(\n",
      "[[[     0.70710677      7.071068       70.71068       707.1068    ]\n",
      "  [     7.071068       70.71068       707.1068       7071.068     ]\n",
      "  [    70.71068       707.1068       7088.7456      70731.89      ]\n",
      "  [   707.1068       7071.068       70731.89       707132.25      ]]], shape=(1, 4, 4), dtype=float32)\n",
      "Attention weights are:\n",
      "tf.Tensor(\n",
      "[[[0. 0. 1. 0.]\n",
      "  [0. 1. 0. 0.]\n",
      "  [1. 0. 0. 0.]\n",
      "  [0. 0. 0. 1.]]], shape=(1, 4, 4), dtype=float32)\n",
      "Output is:\n",
      "tf.Tensor(\n",
      "[[[ 100.    5.]\n",
      "  [  10.    0.]\n",
      "  [   1.    0.]\n",
      "  [1000.    6.]]], shape=(1, 4, 2), dtype=float32)\n"
     ]
    }
   ],
   "source": [
    "print_out(temp_v, temp_v, temp_v, mask=np.array([[\n",
    "    [0.0, 0.0, 0.0, 1.0],\n",
    "    [0.0, 0.0, 1.0, 1.0],\n",
    "    [0.0, 1.0, 1.0, 1.0],\n",
    "    [0.0, 0.0, 0.0, 0.0],\n",
    "]]))"
   ]
  },
  {
   "cell_type": "code",
   "execution_count": 17,
   "metadata": {},
   "outputs": [
    {
     "data": {
      "text/plain": [
       "(TensorShape([1, 20, 512]), TensorShape([1, 8, 20, 60]))"
      ]
     },
     "execution_count": 17,
     "metadata": {},
     "output_type": "execute_result"
    }
   ],
   "source": [
    "class MultiHeadAttention(tf.keras.layers.Layer):\n",
    "    \"\"\"Instead of one single attention head, Q, K, and V\n",
    "    are split into multiple heads because it allows the\n",
    "    model to jointly attend to information at different\n",
    "    positions from different representational spaces.\n",
    "    \n",
    "    After the split each head has a reduced dimensionality,\n",
    "    so the total computation cost is the same as a single\n",
    "    head attention with full dimensionality.\n",
    "    \"\"\"\n",
    "    def __init__(self, d_model, num_heads, *args, **kwargs):\n",
    "        assert d_model % num_heads == 0\n",
    "        super().__init__(*args, **kwargs)\n",
    "        \n",
    "        self.num_heads = num_heads\n",
    "        self.d_model = d_model\n",
    "        self.depth = int(self.d_model / self.num_heads)\n",
    "        \n",
    "        self.wq = tf.keras.layers.Dense(d_model)\n",
    "        self.wk = tf.keras.layers.Dense(d_model)\n",
    "        self.wv = tf.keras.layers.Dense(d_model)\n",
    "        \n",
    "        self.dense = tf.keras.layers.Dense(d_model)\n",
    "        \n",
    "    def split_heads(self, x, batch_size):\n",
    "        \"\"\"Split the last dimension into (num_heads, depth)\n",
    "        Transpose the result such that the shape is\n",
    "            (batch_size, num_heads, seq_len, depth)\n",
    "        \"\"\"\n",
    "        x = tf.reshape(x, (batch_size, -1, self.num_heads, self.depth))\n",
    "        return tf.transpose(x, perm=[0, 2, 1, 3])\n",
    "\n",
    "    def call(self, v, k, q, mask):\n",
    "        batch_size = tf.shape(q)[0]\n",
    "        \n",
    "        q = self.wq(q)  # (batch_size, seq_len_q, d_model)\n",
    "        k = self.wk(k)  # (batch_size, seq_len_k, d_model)\n",
    "        v = self.wv(v)  # (batch_size, seq_len_v, d_model)\n",
    "\n",
    "        q = self.split_heads(q, batch_size)  # (batch_size, num_heads, seq_len_q, depth)\n",
    "        k = self.split_heads(k, batch_size)  # (batch_size, num_heads, seq_len_k, depth)\n",
    "        v = self.split_heads(v, batch_size)  # (batch_size, num_heads, seq_len_v, depth)\n",
    "        \n",
    "        # weighted_values_sum.shape == (batch_size, num_heads, seq_len_q, depth)\n",
    "        # attention_weights.shape == (batch_size, num_heads, seq_len_q, seq_len_k)\n",
    "        weighted_values_sum, attention_weights = scaled_dotproduct_attention(\n",
    "            q, k, v, mask)\n",
    "        \n",
    "        weighted_values_sum = tf.transpose(\n",
    "            weighted_values_sum,\n",
    "            perm=[0, 2, 1, 3])  # (batch_size, seq_len_q, num_heads, depth)\n",
    "        concat_weighted_values_sum = tf.reshape(\n",
    "            weighted_values_sum,\n",
    "            (batch_size, -1, self.d_model))  # (batch_size, seq_len_q, d_model)\n",
    "        \n",
    "        output = self.dense(concat_weighted_values_sum)  # (batch_size, seq_len_q, d_model)\n",
    "        return output, attention_weights\n",
    "\n",
    "    \n",
    "temp_mha = MultiHeadAttention(d_model=512, num_heads=8)\n",
    "y = tf.random.uniform((1, 60, 512))  # (batch_size, encoder_sequence, d_model)\n",
    "q = tf.random.uniform((1, 20, 512))  # (batch_size, query_sequence, d_model)\n",
    "out, attn = temp_mha(y, k=y, q=q, mask=None)\n",
    "out.shape, attn.shape"
   ]
  },
  {
   "cell_type": "code",
   "execution_count": 18,
   "metadata": {},
   "outputs": [
    {
     "data": {
      "text/plain": [
       "TensorShape([64, 50, 512])"
      ]
     },
     "execution_count": 18,
     "metadata": {},
     "output_type": "execute_result"
    }
   ],
   "source": [
    "def point_wise_feed_forward_network(d_model, dff):\n",
    "    return tf.keras.Sequential([\n",
    "        tf.keras.layers.Dense(dff, activation='relu'),\n",
    "        tf.keras.layers.Dense(d_model)\n",
    "    ])\n",
    "\n",
    "sample_ffn = point_wise_feed_forward_network(512, 2048)\n",
    "sample_ffn(tf.random.uniform((64, 50, 512))).shape"
   ]
  },
  {
   "cell_type": "code",
   "execution_count": 19,
   "metadata": {},
   "outputs": [
    {
     "data": {
      "text/plain": [
       "TensorShape([64, 43, 512])"
      ]
     },
     "execution_count": 19,
     "metadata": {},
     "output_type": "execute_result"
    }
   ],
   "source": [
    "class EncoderLayer(tf.keras.layers.Layer):\n",
    "    \"\"\"Multi-head attention and feed-forward\n",
    "    with skip connections between them\n",
    "    \"\"\"\n",
    "    \n",
    "    def __init__(self, d_model, num_heads, dff, dropout=0.1,\n",
    "                 *args, **kwargs):\n",
    "        super().__init__(*args, **kwargs)\n",
    "        \n",
    "        # workhorses\n",
    "        self.mha = MultiHeadAttention(d_model, num_heads)\n",
    "        self.ffn = point_wise_feed_forward_network(d_model, dff)\n",
    "        \n",
    "        # used for skip-connections\n",
    "        self.layernorm1 = tf.keras.layers.LayerNormalization(epsilon=1e-6)\n",
    "        self.layernorm2 = tf.keras.layers.LayerNormalization(epsilon=1e-6)\n",
    "        \n",
    "        # trix\n",
    "        self.dropout1 = tf.keras.layers.Dropout(dropout)\n",
    "        self.dropout2 = tf.keras.layers.Dropout(dropout)\n",
    "        \n",
    "    def call(self, x, training, mask):\n",
    "        weighted_x, _ = self.mha(x, x, x, mask)  # (batch_size, input_seq_len, d_model)\n",
    "        weighted_x = self.dropout1(weighted_x, training=training)\n",
    "        out1 = self.layernorm1(x + weighted_x)\n",
    "        \n",
    "        ffn_output = self.ffn(out1)  # (batch_size, input_seq_len, d_model)\n",
    "        ffn_output = self.dropout2(ffn_output, training=training)\n",
    "        out2 = self.layernorm2(out1 + ffn_output)  # (batch_size, input_seq_len, d_model)\n",
    "        \n",
    "        return out2\n",
    "    \n",
    "\n",
    "sample_encoder_layer = EncoderLayer(512, 8, 2048)\n",
    "sample_encoder_layer_output = sample_encoder_layer(\n",
    "    tf.random.uniform((64, 43, 512)),\n",
    "    False,\n",
    "    None)\n",
    "\n",
    "sample_encoder_layer_output.shape"
   ]
  },
  {
   "cell_type": "code",
   "execution_count": 20,
   "metadata": {},
   "outputs": [
    {
     "data": {
      "text/plain": [
       "TensorShape([64, 50, 512])"
      ]
     },
     "execution_count": 20,
     "metadata": {},
     "output_type": "execute_result"
    }
   ],
   "source": [
    "class DecoderLayer(tf.keras.layers.Layer):\n",
    "    \"\"\"Multi-head attention, with masked multi-head attention\n",
    "    taking output from encoder layer, and feed-forward\n",
    "    with skip connections between them\n",
    "    \"\"\"\n",
    "    \n",
    "    def __init__(self, d_model, num_heads, dff, dropout=0.1,\n",
    "                 *args, **kwargs):\n",
    "        super().__init__(*args, **kwargs)\n",
    "        \n",
    "        self.mha1 = MultiHeadAttention(d_model, num_heads)\n",
    "        self.mha2 = MultiHeadAttention(d_model, num_heads)\n",
    "        \n",
    "        self.ffn = point_wise_feed_forward_network(d_model, dff)\n",
    "        \n",
    "        self.layernorm1 = tf.keras.layers.LayerNormalization(epsilon=1e-6)\n",
    "        self.layernorm2 = tf.keras.layers.LayerNormalization(epsilon=1e-6)\n",
    "        self.layernorm3 = tf.keras.layers.LayerNormalization(epsilon=1e-6)\n",
    "        \n",
    "        self.dropout1 = tf.keras.layers.Dropout(dropout)\n",
    "        self.dropout2 = tf.keras.layers.Dropout(dropout)\n",
    "        self.dropout3 = tf.keras.layers.Dropout(dropout)\n",
    "        \n",
    "    def call(self, x, enc_output, training,\n",
    "             look_ahead_mask, padding_mask):\n",
    "        # enc_output.shape == (batch_size, input_seq_len, d_model)\n",
    "        \n",
    "        weighted_x, attn_weights1 = self.mha1(x, x, x, look_ahead_mask)\n",
    "        weighted_x = self.dropout1(weighted_x, training=training)\n",
    "        out1 = self.layernorm1(x + weighted_x)\n",
    "        \n",
    "        weighted_enc_output, attn_weights2 = self.mha2(\n",
    "            enc_output, enc_output, out1, padding_mask)\n",
    "        weighted_enc_output = self.dropout2(weighted_enc_output, training=training)\n",
    "        out2 = self.layernorm2(out1 + weighted_enc_output)\n",
    "        \n",
    "        ffn_output = self.ffn(out2)\n",
    "        ffn_output = self.dropout3(ffn_output, training=training)\n",
    "        out3 = self.layernorm3(out2 + ffn_output)\n",
    "        \n",
    "        return out3, attn_weights1, attn_weights2\n",
    "        \n",
    "\n",
    "sample_decoder_layer = DecoderLayer(512, 8, 2048)\n",
    "sample_decoder_layer_output, _, _ = sample_decoder_layer(\n",
    "    tf.random.uniform((64, 50, 512)), sample_encoder_layer_output,\n",
    "    False, None, None)\n",
    "\n",
    "sample_decoder_layer_output.shape"
   ]
  },
  {
   "cell_type": "code",
   "execution_count": 21,
   "metadata": {},
   "outputs": [
    {
     "name": "stdout",
     "output_type": "stream",
     "text": [
      "(64, 62, 512)\n"
     ]
    }
   ],
   "source": [
    "class Encoder(tf.keras.layers.Layer):\n",
    "    \"\"\"\n",
    "    The Encoder consists of:\n",
    "\n",
    "    1. Input Embedding\n",
    "    2. Positional Encoding\n",
    "    3. N encoder layers\n",
    "\n",
    "    The input is put through an embedding which is\n",
    "    summed with the positional encoding. The output\n",
    "    of this summation is the input to the encoder layers.\n",
    "    \"\"\"\n",
    "    def __init__(self, num_layers, d_model, num_heads, dff, input_vocab_size,\n",
    "                 max_position_encoding, dropout=0.1,\n",
    "                 *args, **kwargs):\n",
    "        super().__init__(*args, **kwargs)\n",
    "        \n",
    "        self.d_model = d_model\n",
    "        self.num_layers = num_layers\n",
    "        \n",
    "        # tensor of position encoding vectors\n",
    "        self.pos_encoding = positional_encoding(max_position_encoding, self.d_model)\n",
    "        \n",
    "        # layers\n",
    "        self.embedding = tf.keras.layers.Embedding(input_vocab_size, self.d_model)\n",
    "        self.enc_layers = [\n",
    "            EncoderLayer(d_model, num_heads, dff, dropout=dropout)\n",
    "            for _ in range(num_layers)\n",
    "        ]\n",
    "        self.dropout = tf.keras.layers.Dropout(dropout)\n",
    "        \n",
    "    def call(self, x, training, mask):\n",
    "        seq_len = tf.shape(x)[1]  # (batch_size, seq_len)\n",
    "        \n",
    "        x = self.embedding(x)  # (batch_size, seq_len, d_model)\n",
    "        x *= tf.math.sqrt(tf.cast(self.d_model, tf.float32))  # (batch_size, seq_len, d_model)\n",
    "        x += self.pos_encoding[:, :seq_len, :]\n",
    "\n",
    "        x = self.dropout(x, training=training)\n",
    "        \n",
    "        for enc_layer in self.enc_layers:\n",
    "            x = enc_layer(x, training, mask)  # (batch_size, seq_len, d_model)\n",
    "            \n",
    "        return x\n",
    "    \n",
    "sample_encoder = Encoder(num_layers=2, d_model=512, num_heads=8, \n",
    "                         dff=2048, input_vocab_size=8500,\n",
    "                         max_position_encoding=10000)\n",
    "temp_input = tf.random.uniform((64, 62), dtype=tf.int64, minval=0, maxval=200)\n",
    "\n",
    "sample_encoder_output = sample_encoder(temp_input, training=False, mask=None)\n",
    "\n",
    "print(sample_encoder_output.shape)  # (batch_size, input_seq_len, d_model)\n"
   ]
  },
  {
   "cell_type": "code",
   "execution_count": 22,
   "metadata": {},
   "outputs": [
    {
     "data": {
      "text/plain": [
       "(TensorShape([64, 26, 512]), TensorShape([64, 8, 26, 62]))"
      ]
     },
     "execution_count": 22,
     "metadata": {},
     "output_type": "execute_result"
    }
   ],
   "source": [
    "class Decoder(tf.keras.layers.Layer):\n",
    "    \"\"\"\n",
    "    The output of the encoder is the input to the decoder. \n",
    "    The Decoder consists of:\n",
    "\n",
    "    1. Output Embedding\n",
    "    2. Positional Encoding\n",
    "    3. N decoder layers\n",
    "\n",
    "    The target is put through an embedding which is summed\n",
    "    with the positional encoding. The output of this\n",
    "    summation is the input to the decoder layers.\n",
    "    The output of the decoder is the input to the final linear layer.\n",
    "    \"\"\"\n",
    "    def __init__(self, num_layers, d_model, num_heads, dff, target_vocab_size,\n",
    "                 max_position_encoding, dropout=0.1,\n",
    "                 *args, **kwargs):\n",
    "        super().__init__(*args, **kwargs)\n",
    "        \n",
    "        self.num_layers = num_layers\n",
    "        self.d_model = d_model\n",
    "        \n",
    "        # tensor of positional encodings\n",
    "        self.pos_encoding = positional_encoding(max_position_encoding, d_model)\n",
    "        \n",
    "        # layers\n",
    "        self.embedding = tf.keras.layers.Embedding(target_vocab_size, d_model)\n",
    "        self.dec_layers = [\n",
    "            DecoderLayer(d_model, num_heads, dff, dropout)\n",
    "            for _ in range(num_layers)\n",
    "        ]\n",
    "        \n",
    "        self.dropout = tf.keras.layers.Dropout(dropout)\n",
    "        \n",
    "    def call(self, x, enc_output, training,\n",
    "             look_ahead_mask, padding_mask):\n",
    "        seq_len = tf.shape(x)[1]\n",
    "        attention_weights = {}\n",
    "        \n",
    "        x = self.embedding(x)\n",
    "        x *= tf.math.sqrt(tf.cast(self.d_model, tf.float32))\n",
    "        x += self.pos_encoding[:, :seq_len, :]\n",
    "        \n",
    "        x = self.dropout(x, training=training)\n",
    "        \n",
    "        for i, dec_layer in enumerate(self.dec_layers):\n",
    "            x, block1, block2 = dec_layer(x, enc_output, training,\n",
    "                                          look_ahead_mask, padding_mask)\n",
    "            attention_weights[i + 1] = {\n",
    "                'block1': block1,\n",
    "                'block2': block2\n",
    "            }\n",
    "        \n",
    "        # x.shape == (batch_size, target_seq_len, d_model)\n",
    "        return x, attention_weights\n",
    "\n",
    "\n",
    "sample_decoder = Decoder(num_layers=2, d_model=512, num_heads=8, \n",
    "                         dff=2048, target_vocab_size=8000,\n",
    "                         max_position_encoding=5000)\n",
    "temp_input = tf.random.uniform((64, 26), dtype=tf.int64, minval=0, maxval=200)\n",
    "\n",
    "output, attn = sample_decoder(temp_input, \n",
    "                              enc_output=sample_encoder_output, \n",
    "                              training=False,\n",
    "                              look_ahead_mask=None, \n",
    "                              padding_mask=None)\n",
    "\n",
    "output.shape, attn[2]['block2'].shape"
   ]
  },
  {
   "cell_type": "code",
   "execution_count": 23,
   "metadata": {},
   "outputs": [
    {
     "data": {
      "text/plain": [
       "TensorShape([64, 36, 8000])"
      ]
     },
     "execution_count": 23,
     "metadata": {},
     "output_type": "execute_result"
    }
   ],
   "source": [
    "class Transformer(tf.keras.Model):\n",
    "    def __init__(self, num_layers, d_model, num_heads, dff,\n",
    "                 input_vocab_size, target_vocab_size, dropout=0.1,\n",
    "                 *args, **kwargs):\n",
    "        super().__init__(*args, **kwargs)\n",
    "        \n",
    "        self.encoder = Encoder(num_layers, d_model, num_heads, dff,\n",
    "                               input_vocab_size, input_vocab_size, dropout)\n",
    "        self.decoder = Decoder(num_layers, d_model, num_heads, dff,\n",
    "                               target_vocab_size, target_vocab_size, dropout)\n",
    "        \n",
    "        self.final_layer = tf.keras.layers.Dense(target_vocab_size)\n",
    "        \n",
    "    def call(self, inp, tar, training,\n",
    "             enc_padding_mask, look_ahead_mask, dec_padding_mask):\n",
    "        enc_output = self.encoder(inp, training, enc_padding_mask)  # (batch_size, inp_seq_len, d_model)\n",
    "        \n",
    "        dec_output, attention_weights = self.decoder(\n",
    "            tar, enc_output, training,\n",
    "            look_ahead_mask, dec_padding_mask)  # (batch_size, tar_seq_len, d_model)\n",
    "        \n",
    "        final_output = self.final_layer(dec_output)  # (batch_size, tar_seq_len, target_vocab_size)\n",
    "        \n",
    "        return final_output, attention_weights\n",
    "    \n",
    "    \n",
    "sample_transformer = Transformer(\n",
    "    num_layers=2, d_model=512, num_heads=8, dff=2048, \n",
    "    input_vocab_size=8500, target_vocab_size=8000)\n",
    "\n",
    "temp_input = tf.random.uniform((64, 38), dtype=tf.int64, minval=0, maxval=200)\n",
    "temp_target = tf.random.uniform((64, 36), dtype=tf.int64, minval=0, maxval=200)\n",
    "\n",
    "fn_out, _ = sample_transformer(temp_input, temp_target, training=False, \n",
    "                               enc_padding_mask=None, \n",
    "                               look_ahead_mask=None,\n",
    "                               dec_padding_mask=None)\n",
    "\n",
    "fn_out.shape  # (batch_size, tar_seq_len, target_vocab_size)"
   ]
  },
  {
   "cell_type": "code",
   "execution_count": 24,
   "metadata": {},
   "outputs": [
    {
     "data": {
      "text/plain": [
       "Text(0.5, 0, 'Train Step')"
      ]
     },
     "execution_count": 24,
     "metadata": {},
     "output_type": "execute_result"
    },
    {
     "data": {
      "image/png": "[encoded data removed]",
      "text/plain": [
       "<Figure size 432x288 with 1 Axes>"
      ]
     },
     "metadata": {
      "needs_background": "light"
     },
     "output_type": "display_data"
    }
   ],
   "source": [
    "class CustomSchedule(tf.keras.optimizers.schedules.LearningRateSchedule):\n",
    "    def __init__(self, d_model, warmup_steps=4000, *args, **kwargs):\n",
    "        super().__init__(*args, **kwargs)\n",
    "        \n",
    "        self.d_model = tf.cast(d_model, tf.float32)\n",
    "        \n",
    "        self.warmup_steps = warmup_steps\n",
    "        \n",
    "    def __call__(self, step):\n",
    "        arg1 = tf.math.rsqrt(step)\n",
    "        arg2 = step * (self.warmup_steps ** -1.5)\n",
    "        \n",
    "        return tf.math.rsqrt(self.d_model) * tf.math.minimum(arg1, arg2)\n",
    "    \n",
    "\n",
    "temp_learning_rate_schedule = CustomSchedule(128)\n",
    "\n",
    "plt.plot(temp_learning_rate_schedule(tf.range(40000, dtype=tf.float32)))\n",
    "plt.ylabel(\"Learning Rate\")\n",
    "plt.xlabel(\"Train Step\")"
   ]
  },
  {
   "cell_type": "code",
   "execution_count": 25,
   "metadata": {},
   "outputs": [],
   "source": [
    "# params and loss etc.\n",
    "EPOCHS = 20\n",
    "\n",
    "num_layers = 4\n",
    "d_model = 128\n",
    "dff = 512\n",
    "num_heads = 8\n",
    "\n",
    "input_vocab_size = tokenizer_pt.vocab_size + 2\n",
    "target_vocab_size = tokenizer_en.vocab_size + 2\n",
    "dropout_rate = 0.1\n",
    "\n",
    "\n",
    "# learning things\n",
    "learning_rate = CustomSchedule(d_model)\n",
    "optimizer = tf.keras.optimizers.Adam(learning_rate, beta_1=0.9, beta_2=0.98, \n",
    "                                     epsilon=1e-9)"
   ]
  },
  {
   "cell_type": "code",
   "execution_count": 26,
   "metadata": {},
   "outputs": [],
   "source": [
    "transformer = Transformer(num_layers, d_model, num_heads, dff,\n",
    "                          input_vocab_size, target_vocab_size,\n",
    "                          dropout=dropout_rate)\n",
    "\n",
    "# transformer.summary()"
   ]
  },
  {
   "cell_type": "code",
   "execution_count": 27,
   "metadata": {},
   "outputs": [
    {
     "data": {
      "text/plain": [
       "(<tf.Tensor: id=213011, shape=(1, 1, 1, 50), dtype=float32, numpy=\n",
       " array([[[[0., 0., 0., 0., 0., 0., 0., 1., 1., 1., 1., 1., 1., 1., 1.,\n",
       "           1., 1., 1., 1., 1., 1., 1., 1., 1., 1., 1., 1., 1., 1., 1.,\n",
       "           1., 1., 1., 1., 1., 1., 1., 1., 1., 1., 1., 1., 1., 1., 1.,\n",
       "           1., 1., 1., 1., 1.]]]], dtype=float32)>,\n",
       " <tf.Tensor: id=213043, shape=(1, 1, 50, 50), dtype=float32, numpy=\n",
       " array([[[[0., 1., 1., ..., 1., 1., 1.],\n",
       "          [0., 0., 1., ..., 1., 1., 1.],\n",
       "          [0., 0., 0., ..., 1., 1., 1.],\n",
       "          ...,\n",
       "          [0., 0., 0., ..., 1., 1., 1.],\n",
       "          [0., 0., 0., ..., 1., 1., 1.],\n",
       "          [0., 0., 0., ..., 1., 1., 1.]]]], dtype=float32)>,\n",
       " <tf.Tensor: id=213018, shape=(1, 1, 1, 50), dtype=float32, numpy=\n",
       " array([[[[0., 0., 0., 0., 0., 0., 0., 1., 1., 1., 1., 1., 1., 1., 1.,\n",
       "           1., 1., 1., 1., 1., 1., 1., 1., 1., 1., 1., 1., 1., 1., 1.,\n",
       "           1., 1., 1., 1., 1., 1., 1., 1., 1., 1., 1., 1., 1., 1., 1.,\n",
       "           1., 1., 1., 1., 1.]]]], dtype=float32)>)"
      ]
     },
     "execution_count": 27,
     "metadata": {},
     "output_type": "execute_result"
    }
   ],
   "source": [
    "# masking things\n",
    "def create_masks(inp, tar):\n",
    "    # Encoder padding mask\n",
    "    enc_padding_mask = create_padding_mask(inp)\n",
    "  \n",
    "    # Used in the 2nd attention block in the decoder.\n",
    "    # This padding mask is used to mask the encoder outputs.\n",
    "    dec_padding_mask = create_padding_mask(inp)\n",
    "  \n",
    "    # Used in the 1st attention block in the decoder.\n",
    "    # It is used to pad and mask future tokens in the input received by \n",
    "    # the decoder.\n",
    "    look_ahead_mask = create_look_ahead_mask(tf.shape(tar)[1])\n",
    "    dec_target_padding_mask = create_padding_mask(tar)\n",
    "    combined_mask = tf.maximum(dec_target_padding_mask, look_ahead_mask)\n",
    "  \n",
    "    return enc_padding_mask, combined_mask, dec_padding_mask\n",
    "\n",
    "create_masks(\n",
    "    tf.constant([[1.0, 2.0, 3.0, 8.9, 9, 9, 10] + [0.0] * 43]),\n",
    "    tf.constant([[4.0, 5.0, 3.0, 8.9, 9] + [0.0] * 45])\n",
    ")"
   ]
  },
  {
   "cell_type": "code",
   "execution_count": 28,
   "metadata": {},
   "outputs": [
    {
     "data": {
      "text/plain": [
       "(<tf.Tensor: id=213070, shape=(), dtype=float64, numpy=0.0>,\n",
       " <tf.Tensor: id=213097, shape=(), dtype=float64, numpy=1000000000.0>)"
      ]
     },
     "execution_count": 28,
     "metadata": {},
     "output_type": "execute_result"
    }
   ],
   "source": [
    "# loss things\n",
    "loss_object = tf.keras.losses.SparseCategoricalCrossentropy(\n",
    "    from_logits=True, reduction='none')\n",
    "\n",
    "def loss_function(real, pred):\n",
    "    mask = tf.math.logical_not(tf.math.equal(real, 0))\n",
    "    loss_ = loss_object(real, pred)\n",
    "\n",
    "    mask = tf.cast(mask, dtype=loss_.dtype)\n",
    "    loss_ *= mask\n",
    "  \n",
    "    return tf.reduce_mean(loss_)\n",
    "\n",
    "\n",
    "loss_function(np.array([1]), np.array([[0.0, 1e9, 0.0, 0.0]])), \\\n",
    "loss_function(np.array([2]), np.array([[0.0, 1e9, 0.0, 0.0]]))"
   ]
  },
  {
   "cell_type": "code",
   "execution_count": 29,
   "metadata": {},
   "outputs": [
    {
     "data": {
      "text/plain": [
       "<tf.Tensor: id=213124, shape=(), dtype=float64, numpy=0.0>"
      ]
     },
     "execution_count": 29,
     "metadata": {},
     "output_type": "execute_result"
    }
   ],
   "source": [
    "loss_function(\n",
    "    np.array([1, 2, 0, 0]),\n",
    "    np.array([\n",
    "        [0.0, 1e9, 0.0, 0.0],\n",
    "        [0.0, 0.0, 1e9, 0.0],\n",
    "        [0.0, 1e9, 0.0, 0.0],\n",
    "        [0.0, 0.0, 0.0, 1e9]\n",
    "    ])\n",
    ")"
   ]
  },
  {
   "cell_type": "code",
   "execution_count": 30,
   "metadata": {
    "scrolled": false
   },
   "outputs": [
    {
     "name": "stdout",
     "output_type": "stream",
     "text": [
      "Epoch 1 Batch 0 Loss 4.2999 Accuracy 0.0000\n",
      "Epoch 1 Batch 50 Loss 4.1999 Accuracy 0.0003\n",
      "Epoch 1 Batch 100 Loss 4.1674 Accuracy 0.0103\n",
      "Epoch 1 Batch 150 Loss 4.1378 Accuracy 0.0151\n",
      "Epoch 1 Batch 200 Loss 4.0638 Accuracy 0.0175\n",
      "Epoch 1 Batch 250 Loss 3.9896 Accuracy 0.0209\n",
      "Epoch 1 Batch 300 Loss 3.9169 Accuracy 0.0258\n",
      "Epoch 1 Batch 350 Loss 3.8353 Accuracy 0.0296\n",
      "Epoch 1 Batch 400 Loss 3.7488 Accuracy 0.0326\n",
      "Epoch 1 Batch 450 Loss 3.6728 Accuracy 0.0354\n",
      "Epoch 1 Batch 500 Loss 3.6013 Accuracy 0.0384\n",
      "Epoch 1 Batch 550 Loss 3.5373 Accuracy 0.0418\n",
      "Epoch 1 Batch 600 Loss 3.4804 Accuracy 0.0455\n",
      "Epoch 1 Batch 650 Loss 3.4235 Accuracy 0.0491\n",
      "Epoch 1 Batch 700 Loss 3.3728 Accuracy 0.0526\n",
      "Epoch 1 Loss 3.3710 Accuracy 0.0527\n",
      "Time taken for 1 epoch: 568.6343777179718 secs\n",
      "\n",
      "Epoch 2 Batch 0 Loss 2.5240 Accuracy 0.0917\n",
      "Epoch 2 Batch 50 Loss 2.5372 Accuracy 0.1020\n",
      "Epoch 2 Batch 100 Loss 2.5430 Accuracy 0.1050\n",
      "Epoch 2 Batch 150 Loss 2.5252 Accuracy 0.1072\n",
      "Epoch 2 Batch 200 Loss 2.4960 Accuracy 0.1089\n",
      "Epoch 2 Batch 250 Loss 2.4811 Accuracy 0.1111\n",
      "Epoch 2 Batch 300 Loss 2.4695 Accuracy 0.1132\n",
      "Epoch 2 Batch 350 Loss 2.4515 Accuracy 0.1148\n",
      "Epoch 2 Batch 400 Loss 2.4368 Accuracy 0.1163\n",
      "Epoch 2 Batch 450 Loss 2.4268 Accuracy 0.1180\n",
      "Epoch 2 Batch 500 Loss 2.4118 Accuracy 0.1194\n",
      "Epoch 2 Batch 550 Loss 2.3995 Accuracy 0.1207\n",
      "Epoch 2 Batch 600 Loss 2.3873 Accuracy 0.1220\n",
      "Epoch 2 Batch 650 Loss 2.3751 Accuracy 0.1231\n",
      "Epoch 2 Batch 700 Loss 2.3638 Accuracy 0.1243\n",
      "Epoch 2 Loss 2.3635 Accuracy 0.1244\n",
      "Time taken for 1 epoch: 537.5884547233582 secs\n",
      "\n",
      "Epoch 3 Batch 0 Loss 2.2355 Accuracy 0.1498\n",
      "Epoch 3 Batch 50 Loss 2.1621 Accuracy 0.1426\n",
      "Epoch 3 Batch 100 Loss 2.1725 Accuracy 0.1438\n",
      "Epoch 3 Batch 150 Loss 2.1717 Accuracy 0.1450\n",
      "Epoch 3 Batch 200 Loss 2.1645 Accuracy 0.1453\n",
      "Epoch 3 Batch 250 Loss 2.1533 Accuracy 0.1454\n",
      "Epoch 3 Batch 300 Loss 2.1381 Accuracy 0.1459\n",
      "Epoch 3 Batch 350 Loss 2.1372 Accuracy 0.1465\n",
      "Epoch 3 Batch 400 Loss 2.1315 Accuracy 0.1470\n",
      "Epoch 3 Batch 450 Loss 2.1249 Accuracy 0.1477\n",
      "Epoch 3 Batch 500 Loss 2.1210 Accuracy 0.1485\n",
      "Epoch 3 Batch 550 Loss 2.1133 Accuracy 0.1495\n",
      "Epoch 3 Batch 600 Loss 2.1060 Accuracy 0.1502\n",
      "Epoch 3 Batch 650 Loss 2.0981 Accuracy 0.1512\n",
      "Epoch 3 Batch 700 Loss 2.0946 Accuracy 0.1521\n",
      "Epoch 3 Loss 2.0940 Accuracy 0.1522\n",
      "Time taken for 1 epoch: 541.469566822052 secs\n",
      "\n",
      "Epoch 4 Batch 0 Loss 2.0943 Accuracy 0.1575\n",
      "Epoch 4 Batch 50 Loss 1.9509 Accuracy 0.1674\n",
      "Epoch 4 Batch 100 Loss 1.9460 Accuracy 0.1679\n",
      "Epoch 4 Batch 150 Loss 1.9235 Accuracy 0.1691\n",
      "Epoch 4 Batch 200 Loss 1.9240 Accuracy 0.1707\n",
      "Epoch 4 Batch 250 Loss 1.9122 Accuracy 0.1710\n",
      "Epoch 4 Batch 300 Loss 1.9093 Accuracy 0.1721\n",
      "Epoch 4 Batch 350 Loss 1.9036 Accuracy 0.1730\n",
      "Epoch 4 Batch 400 Loss 1.8980 Accuracy 0.1743\n",
      "Epoch 4 Batch 450 Loss 1.8946 Accuracy 0.1757\n",
      "Epoch 4 Batch 500 Loss 1.8887 Accuracy 0.1765\n",
      "Epoch 4 Batch 550 Loss 1.8811 Accuracy 0.1774\n",
      "Epoch 4 Batch 600 Loss 1.8730 Accuracy 0.1784\n",
      "Epoch 4 Batch 650 Loss 1.8646 Accuracy 0.1793\n",
      "Epoch 4 Batch 700 Loss 1.8594 Accuracy 0.1803\n",
      "Epoch 4 Loss 1.8595 Accuracy 0.1803\n",
      "Time taken for 1 epoch: 516.6689274311066 secs\n",
      "\n",
      "Epoch 5 Batch 0 Loss 1.5975 Accuracy 0.1845\n",
      "Epoch 5 Batch 50 Loss 1.6993 Accuracy 0.1951\n",
      "Epoch 5 Batch 100 Loss 1.7004 Accuracy 0.1975\n",
      "Epoch 5 Batch 150 Loss 1.6912 Accuracy 0.1981\n",
      "Epoch 5 Batch 200 Loss 1.6897 Accuracy 0.1999\n",
      "Epoch 5 Batch 250 Loss 1.6804 Accuracy 0.2008\n",
      "Epoch 5 Batch 300 Loss 1.6832 Accuracy 0.2020\n",
      "Epoch 5 Batch 350 Loss 1.6768 Accuracy 0.2026\n",
      "Epoch 5 Batch 400 Loss 1.6705 Accuracy 0.2031\n",
      "Epoch 5 Batch 450 Loss 1.6673 Accuracy 0.2039\n",
      "Epoch 5 Batch 500 Loss 1.6618 Accuracy 0.2044\n",
      "Epoch 5 Batch 550 Loss 1.6552 Accuracy 0.2049\n",
      "Epoch 5 Batch 600 Loss 1.6488 Accuracy 0.2055\n",
      "Epoch 5 Batch 650 Loss 1.6458 Accuracy 0.2059\n",
      "Epoch 5 Batch 700 Loss 1.6388 Accuracy 0.2065\n",
      "Checkpoint saved for epoch 4 at ./checkpoints/train/ckpt-1\n",
      "Epoch 5 Loss 1.6388 Accuracy 0.2065\n",
      "Time taken for 1 epoch: 514.8611035346985 secs\n",
      "\n",
      "Epoch 6 Batch 0 Loss 1.4477 Accuracy 0.2007\n",
      "Epoch 6 Batch 50 Loss 1.4846 Accuracy 0.2197\n",
      "Epoch 6 Batch 100 Loss 1.5043 Accuracy 0.2230\n",
      "Epoch 6 Batch 150 Loss 1.4971 Accuracy 0.2228\n",
      "Epoch 6 Batch 200 Loss 1.4947 Accuracy 0.2229\n",
      "Epoch 6 Batch 250 Loss 1.4855 Accuracy 0.2226\n",
      "Epoch 6 Batch 300 Loss 1.4812 Accuracy 0.2230\n",
      "Epoch 6 Batch 350 Loss 1.4749 Accuracy 0.2234\n",
      "Epoch 6 Batch 400 Loss 1.4704 Accuracy 0.2236\n",
      "Epoch 6 Batch 450 Loss 1.4671 Accuracy 0.2241\n",
      "Epoch 6 Batch 500 Loss 1.4626 Accuracy 0.2245\n",
      "Epoch 6 Batch 550 Loss 1.4605 Accuracy 0.2252\n",
      "Epoch 6 Batch 600 Loss 1.4577 Accuracy 0.2257\n",
      "Epoch 6 Batch 650 Loss 1.4540 Accuracy 0.2261\n",
      "Epoch 6 Batch 700 Loss 1.4520 Accuracy 0.2267\n",
      "Epoch 6 Loss 1.4521 Accuracy 0.2267\n",
      "Time taken for 1 epoch: 517.4301588535309 secs\n",
      "\n",
      "Epoch 7 Batch 0 Loss 1.1888 Accuracy 0.2331\n",
      "Epoch 7 Batch 50 Loss 1.2931 Accuracy 0.2444\n",
      "Epoch 7 Batch 100 Loss 1.2924 Accuracy 0.2439\n",
      "Epoch 7 Batch 150 Loss 1.2963 Accuracy 0.2454\n",
      "Epoch 7 Batch 200 Loss 1.2938 Accuracy 0.2446\n",
      "Epoch 7 Batch 250 Loss 1.2913 Accuracy 0.2444\n",
      "Epoch 7 Batch 300 Loss 1.2920 Accuracy 0.2454\n",
      "Epoch 7 Batch 350 Loss 1.2879 Accuracy 0.2462\n",
      "Epoch 7 Batch 400 Loss 1.2831 Accuracy 0.2465\n",
      "Epoch 7 Batch 450 Loss 1.2797 Accuracy 0.2468\n",
      "Epoch 7 Batch 500 Loss 1.2778 Accuracy 0.2468\n",
      "Epoch 7 Batch 550 Loss 1.2740 Accuracy 0.2471\n",
      "Epoch 7 Batch 600 Loss 1.2711 Accuracy 0.2475\n",
      "Epoch 7 Batch 650 Loss 1.2685 Accuracy 0.2479\n",
      "Epoch 7 Batch 700 Loss 1.2670 Accuracy 0.2485\n",
      "Epoch 7 Loss 1.2670 Accuracy 0.2485\n",
      "Time taken for 1 epoch: 513.2420530319214 secs\n",
      "\n",
      "Epoch 8 Batch 0 Loss 1.1740 Accuracy 0.2779\n",
      "Epoch 8 Batch 50 Loss 1.1217 Accuracy 0.2662\n",
      "Epoch 8 Batch 100 Loss 1.1214 Accuracy 0.2667\n",
      "Epoch 8 Batch 150 Loss 1.1204 Accuracy 0.2666\n",
      "Epoch 8 Batch 200 Loss 1.1198 Accuracy 0.2651\n",
      "Epoch 8 Batch 250 Loss 1.1242 Accuracy 0.2660\n",
      "Epoch 8 Batch 300 Loss 1.1264 Accuracy 0.2661\n",
      "Epoch 8 Batch 350 Loss 1.1258 Accuracy 0.2660\n",
      "Epoch 8 Batch 400 Loss 1.1239 Accuracy 0.2661\n",
      "Epoch 8 Batch 450 Loss 1.1227 Accuracy 0.2660\n",
      "Epoch 8 Batch 500 Loss 1.1220 Accuracy 0.2660\n",
      "Epoch 8 Batch 550 Loss 1.1226 Accuracy 0.2664\n",
      "Epoch 8 Batch 600 Loss 1.1239 Accuracy 0.2668\n",
      "Epoch 8 Batch 650 Loss 1.1234 Accuracy 0.2668\n",
      "Epoch 8 Batch 700 Loss 1.1224 Accuracy 0.2671\n",
      "Epoch 8 Loss 1.1227 Accuracy 0.2671\n",
      "Time taken for 1 epoch: 513.9366862773895 secs\n",
      "\n",
      "Epoch 9 Batch 0 Loss 1.0242 Accuracy 0.2656\n",
      "Epoch 9 Batch 50 Loss 1.0010 Accuracy 0.2797\n",
      "Epoch 9 Batch 100 Loss 1.0070 Accuracy 0.2799\n",
      "Epoch 9 Batch 150 Loss 1.0074 Accuracy 0.2803\n",
      "Epoch 9 Batch 200 Loss 1.0030 Accuracy 0.2800\n",
      "Epoch 9 Batch 250 Loss 1.0058 Accuracy 0.2807\n",
      "Epoch 9 Batch 300 Loss 1.0057 Accuracy 0.2812\n",
      "Epoch 9 Batch 350 Loss 1.0079 Accuracy 0.2809\n",
      "Epoch 9 Batch 400 Loss 1.0067 Accuracy 0.2808\n",
      "Epoch 9 Batch 450 Loss 1.0060 Accuracy 0.2806\n",
      "Epoch 9 Batch 500 Loss 1.0068 Accuracy 0.2805\n",
      "Epoch 9 Batch 550 Loss 1.0101 Accuracy 0.2803\n",
      "Epoch 9 Batch 600 Loss 1.0098 Accuracy 0.2803\n",
      "Epoch 9 Batch 650 Loss 1.0095 Accuracy 0.2801\n",
      "Epoch 9 Batch 700 Loss 1.0106 Accuracy 0.2801\n",
      "Epoch 9 Loss 1.0106 Accuracy 0.2801\n",
      "Time taken for 1 epoch: 515.1188035011292 secs\n",
      "\n",
      "Epoch 10 Batch 0 Loss 0.8739 Accuracy 0.2945\n",
      "Epoch 10 Batch 50 Loss 0.9039 Accuracy 0.2959\n",
      "Epoch 10 Batch 100 Loss 0.8994 Accuracy 0.2933\n",
      "Epoch 10 Batch 150 Loss 0.9055 Accuracy 0.2917\n",
      "Epoch 10 Batch 200 Loss 0.9147 Accuracy 0.2913\n",
      "Epoch 10 Batch 250 Loss 0.9133 Accuracy 0.2905\n",
      "Epoch 10 Batch 300 Loss 0.9156 Accuracy 0.2911\n",
      "Epoch 10 Batch 350 Loss 0.9177 Accuracy 0.2911\n",
      "Epoch 10 Batch 400 Loss 0.9213 Accuracy 0.2915\n",
      "Epoch 10 Batch 450 Loss 0.9228 Accuracy 0.2915\n",
      "Epoch 10 Batch 500 Loss 0.9239 Accuracy 0.2915\n",
      "Epoch 10 Batch 550 Loss 0.9237 Accuracy 0.2908\n",
      "Epoch 10 Batch 600 Loss 0.9247 Accuracy 0.2906\n",
      "Epoch 10 Batch 650 Loss 0.9269 Accuracy 0.2907\n",
      "Epoch 10 Batch 700 Loss 0.9279 Accuracy 0.2902\n",
      "Checkpoint saved for epoch 9 at ./checkpoints/train/ckpt-2\n",
      "Epoch 10 Loss 0.9281 Accuracy 0.2902\n",
      "Time taken for 1 epoch: 427.47822284698486 secs\n",
      "\n",
      "Epoch 11 Batch 0 Loss 0.8808 Accuracy 0.3049\n",
      "Epoch 11 Batch 50 Loss 0.8420 Accuracy 0.3022\n",
      "Epoch 11 Batch 100 Loss 0.8322 Accuracy 0.3023\n",
      "Epoch 11 Batch 150 Loss 0.8324 Accuracy 0.3011\n",
      "Epoch 11 Batch 200 Loss 0.8418 Accuracy 0.3010\n",
      "Epoch 11 Batch 250 Loss 0.8433 Accuracy 0.3003\n",
      "Epoch 11 Batch 300 Loss 0.8443 Accuracy 0.2993\n",
      "Epoch 11 Batch 350 Loss 0.8470 Accuracy 0.2990\n"
     ]
    },
    {
     "name": "stdout",
     "output_type": "stream",
     "text": [
      "Epoch 11 Batch 400 Loss 0.8517 Accuracy 0.2988\n",
      "Epoch 11 Batch 450 Loss 0.8545 Accuracy 0.2988\n",
      "Epoch 11 Batch 500 Loss 0.8569 Accuracy 0.2990\n",
      "Epoch 11 Batch 550 Loss 0.8590 Accuracy 0.2989\n",
      "Epoch 11 Batch 600 Loss 0.8600 Accuracy 0.2991\n",
      "Epoch 11 Batch 650 Loss 0.8607 Accuracy 0.2987\n",
      "Epoch 11 Batch 700 Loss 0.8627 Accuracy 0.2987\n",
      "Epoch 11 Loss 0.8632 Accuracy 0.2987\n",
      "Time taken for 1 epoch: 419.46967220306396 secs\n",
      "\n",
      "Epoch 12 Batch 0 Loss 0.7577 Accuracy 0.3211\n",
      "Epoch 12 Batch 50 Loss 0.7872 Accuracy 0.3101\n",
      "Epoch 12 Batch 100 Loss 0.7767 Accuracy 0.3082\n",
      "Epoch 12 Batch 150 Loss 0.7864 Accuracy 0.3108\n",
      "Epoch 12 Batch 200 Loss 0.7861 Accuracy 0.3095\n",
      "Epoch 12 Batch 250 Loss 0.7907 Accuracy 0.3091\n",
      "Epoch 12 Batch 300 Loss 0.7929 Accuracy 0.3084\n",
      "Epoch 12 Batch 350 Loss 0.7950 Accuracy 0.3085\n",
      "Epoch 12 Batch 400 Loss 0.7992 Accuracy 0.3082\n",
      "Epoch 12 Batch 450 Loss 0.7994 Accuracy 0.3079\n",
      "Epoch 12 Batch 500 Loss 0.8017 Accuracy 0.3076\n",
      "Epoch 12 Batch 550 Loss 0.8039 Accuracy 0.3071\n",
      "Epoch 12 Batch 600 Loss 0.8047 Accuracy 0.3067\n",
      "Epoch 12 Batch 650 Loss 0.8071 Accuracy 0.3066\n",
      "Epoch 12 Batch 700 Loss 0.8083 Accuracy 0.3064\n",
      "Epoch 12 Loss 0.8087 Accuracy 0.3064\n",
      "Time taken for 1 epoch: 418.85320115089417 secs\n",
      "\n",
      "Epoch 13 Batch 0 Loss 0.7437 Accuracy 0.3199\n",
      "Epoch 13 Batch 50 Loss 0.7144 Accuracy 0.3183\n",
      "Epoch 13 Batch 100 Loss 0.7291 Accuracy 0.3200\n",
      "Epoch 13 Batch 150 Loss 0.7354 Accuracy 0.3185\n",
      "Epoch 13 Batch 200 Loss 0.7350 Accuracy 0.3167\n",
      "Epoch 13 Batch 250 Loss 0.7393 Accuracy 0.3155\n",
      "Epoch 13 Batch 300 Loss 0.7436 Accuracy 0.3153\n",
      "Epoch 13 Batch 350 Loss 0.7479 Accuracy 0.3154\n",
      "Epoch 13 Batch 400 Loss 0.7498 Accuracy 0.3149\n",
      "Epoch 13 Batch 450 Loss 0.7518 Accuracy 0.3147\n",
      "Epoch 13 Batch 500 Loss 0.7547 Accuracy 0.3141\n",
      "Epoch 13 Batch 550 Loss 0.7567 Accuracy 0.3140\n",
      "Epoch 13 Batch 600 Loss 0.7581 Accuracy 0.3133\n",
      "Epoch 13 Batch 650 Loss 0.7609 Accuracy 0.3131\n",
      "Epoch 13 Batch 700 Loss 0.7630 Accuracy 0.3133\n",
      "Epoch 13 Loss 0.7631 Accuracy 0.3133\n",
      "Time taken for 1 epoch: 418.9243004322052 secs\n",
      "\n",
      "Epoch 14 Batch 0 Loss 0.7191 Accuracy 0.3405\n",
      "Epoch 14 Batch 50 Loss 0.6785 Accuracy 0.3211\n",
      "Epoch 14 Batch 100 Loss 0.6885 Accuracy 0.3233\n",
      "Epoch 14 Batch 150 Loss 0.6948 Accuracy 0.3239\n",
      "Epoch 14 Batch 200 Loss 0.6978 Accuracy 0.3227\n",
      "Epoch 14 Batch 250 Loss 0.6991 Accuracy 0.3229\n",
      "Epoch 14 Batch 300 Loss 0.7029 Accuracy 0.3223\n",
      "Epoch 14 Batch 350 Loss 0.7041 Accuracy 0.3214\n",
      "Epoch 14 Batch 400 Loss 0.7064 Accuracy 0.3215\n",
      "Epoch 14 Batch 450 Loss 0.7084 Accuracy 0.3205\n",
      "Epoch 14 Batch 500 Loss 0.7107 Accuracy 0.3198\n",
      "Epoch 14 Batch 550 Loss 0.7134 Accuracy 0.3195\n",
      "Epoch 14 Batch 600 Loss 0.7156 Accuracy 0.3191\n",
      "Epoch 14 Batch 650 Loss 0.7179 Accuracy 0.3189\n",
      "Epoch 14 Batch 700 Loss 0.7209 Accuracy 0.3187\n",
      "Epoch 14 Loss 0.7213 Accuracy 0.3188\n",
      "Time taken for 1 epoch: 419.8716413974762 secs\n",
      "\n",
      "Epoch 15 Batch 0 Loss 0.6921 Accuracy 0.3241\n",
      "Epoch 15 Batch 50 Loss 0.6642 Accuracy 0.3369\n",
      "Epoch 15 Batch 100 Loss 0.6637 Accuracy 0.3333\n",
      "Epoch 15 Batch 150 Loss 0.6598 Accuracy 0.3307\n",
      "Epoch 15 Batch 200 Loss 0.6619 Accuracy 0.3296\n",
      "Epoch 15 Batch 250 Loss 0.6654 Accuracy 0.3274\n",
      "Epoch 15 Batch 300 Loss 0.6656 Accuracy 0.3259\n",
      "Epoch 15 Batch 350 Loss 0.6667 Accuracy 0.3256\n",
      "Epoch 15 Batch 400 Loss 0.6698 Accuracy 0.3252\n",
      "Epoch 15 Batch 450 Loss 0.6736 Accuracy 0.3257\n",
      "Epoch 15 Batch 500 Loss 0.6754 Accuracy 0.3251\n",
      "Epoch 15 Batch 550 Loss 0.6783 Accuracy 0.3247\n",
      "Epoch 15 Batch 600 Loss 0.6807 Accuracy 0.3243\n",
      "Epoch 15 Batch 650 Loss 0.6824 Accuracy 0.3238\n",
      "Epoch 15 Batch 700 Loss 0.6854 Accuracy 0.3237\n",
      "Checkpoint saved for epoch 14 at ./checkpoints/train/ckpt-3\n",
      "Epoch 15 Loss 0.6853 Accuracy 0.3236\n",
      "Time taken for 1 epoch: 418.8822407722473 secs\n",
      "\n",
      "Epoch 16 Batch 0 Loss 0.6508 Accuracy 0.3513\n",
      "Epoch 16 Batch 50 Loss 0.6114 Accuracy 0.3341\n",
      "Epoch 16 Batch 100 Loss 0.6173 Accuracy 0.3338\n",
      "Epoch 16 Batch 150 Loss 0.6254 Accuracy 0.3321\n",
      "Epoch 16 Batch 200 Loss 0.6276 Accuracy 0.3319\n",
      "Epoch 16 Batch 250 Loss 0.6323 Accuracy 0.3317\n",
      "Epoch 16 Batch 300 Loss 0.6336 Accuracy 0.3318\n",
      "Epoch 16 Batch 350 Loss 0.6355 Accuracy 0.3312\n",
      "Epoch 16 Batch 400 Loss 0.6399 Accuracy 0.3312\n",
      "Epoch 16 Batch 450 Loss 0.6427 Accuracy 0.3311\n",
      "Epoch 16 Batch 500 Loss 0.6450 Accuracy 0.3307\n",
      "Epoch 16 Batch 550 Loss 0.6465 Accuracy 0.3301\n",
      "Epoch 16 Batch 600 Loss 0.6496 Accuracy 0.3296\n",
      "Epoch 16 Batch 650 Loss 0.6515 Accuracy 0.3288\n",
      "Epoch 16 Batch 700 Loss 0.6543 Accuracy 0.3285\n",
      "Epoch 16 Loss 0.6546 Accuracy 0.3285\n",
      "Time taken for 1 epoch: 417.109911441803 secs\n",
      "\n",
      "Epoch 17 Batch 0 Loss 0.5364 Accuracy 0.3347\n",
      "Epoch 17 Batch 50 Loss 0.5864 Accuracy 0.3369\n",
      "Epoch 17 Batch 100 Loss 0.5874 Accuracy 0.3371\n",
      "Epoch 17 Batch 150 Loss 0.5911 Accuracy 0.3352\n",
      "Epoch 17 Batch 200 Loss 0.5958 Accuracy 0.3355\n",
      "Epoch 17 Batch 250 Loss 0.5966 Accuracy 0.3345\n",
      "Epoch 17 Batch 300 Loss 0.6004 Accuracy 0.3347\n",
      "Epoch 17 Batch 350 Loss 0.6043 Accuracy 0.3349\n",
      "Epoch 17 Batch 400 Loss 0.6077 Accuracy 0.3342\n",
      "Epoch 17 Batch 450 Loss 0.6100 Accuracy 0.3340\n",
      "Epoch 17 Batch 500 Loss 0.6121 Accuracy 0.3336\n",
      "Epoch 17 Batch 550 Loss 0.6159 Accuracy 0.3335\n",
      "Epoch 17 Batch 600 Loss 0.6190 Accuracy 0.3330\n",
      "Epoch 17 Batch 650 Loss 0.6214 Accuracy 0.3323\n",
      "Epoch 17 Batch 700 Loss 0.6255 Accuracy 0.3322\n",
      "Epoch 17 Loss 0.6259 Accuracy 0.3322\n",
      "Time taken for 1 epoch: 418.1372821331024 secs\n",
      "\n",
      "Epoch 18 Batch 0 Loss 0.5111 Accuracy 0.3438\n",
      "Epoch 18 Batch 50 Loss 0.5525 Accuracy 0.3430\n",
      "Epoch 18 Batch 100 Loss 0.5594 Accuracy 0.3429\n",
      "Epoch 18 Batch 150 Loss 0.5643 Accuracy 0.3424\n",
      "Epoch 18 Batch 200 Loss 0.5704 Accuracy 0.3421\n",
      "Epoch 18 Batch 250 Loss 0.5738 Accuracy 0.3419\n",
      "Epoch 18 Batch 300 Loss 0.5790 Accuracy 0.3407\n",
      "Epoch 18 Batch 350 Loss 0.5817 Accuracy 0.3399\n",
      "Epoch 18 Batch 400 Loss 0.5828 Accuracy 0.3396\n",
      "Epoch 18 Batch 450 Loss 0.5859 Accuracy 0.3393\n",
      "Epoch 18 Batch 500 Loss 0.5897 Accuracy 0.3390\n",
      "Epoch 18 Batch 550 Loss 0.5918 Accuracy 0.3381\n",
      "Epoch 18 Batch 600 Loss 0.5946 Accuracy 0.3374\n",
      "Epoch 18 Batch 650 Loss 0.5973 Accuracy 0.3370\n",
      "Epoch 18 Batch 700 Loss 0.6009 Accuracy 0.3365\n",
      "Epoch 18 Loss 0.6011 Accuracy 0.3365\n",
      "Time taken for 1 epoch: 417.8594505786896 secs\n",
      "\n",
      "Epoch 19 Batch 0 Loss 0.4879 Accuracy 0.3342\n",
      "Epoch 19 Batch 50 Loss 0.5408 Accuracy 0.3457\n",
      "Epoch 19 Batch 100 Loss 0.5368 Accuracy 0.3452\n",
      "Epoch 19 Batch 150 Loss 0.5410 Accuracy 0.3437\n",
      "Epoch 19 Batch 200 Loss 0.5494 Accuracy 0.3442\n",
      "Epoch 19 Batch 250 Loss 0.5534 Accuracy 0.3451\n",
      "Epoch 19 Batch 300 Loss 0.5566 Accuracy 0.3450\n",
      "Epoch 19 Batch 350 Loss 0.5589 Accuracy 0.3440\n",
      "Epoch 19 Batch 400 Loss 0.5607 Accuracy 0.3431\n",
      "Epoch 19 Batch 450 Loss 0.5640 Accuracy 0.3429\n",
      "Epoch 19 Batch 500 Loss 0.5663 Accuracy 0.3425\n",
      "Epoch 19 Batch 550 Loss 0.5695 Accuracy 0.3423\n",
      "Epoch 19 Batch 600 Loss 0.5716 Accuracy 0.3417\n",
      "Epoch 19 Batch 650 Loss 0.5742 Accuracy 0.3406\n",
      "Epoch 19 Batch 700 Loss 0.5773 Accuracy 0.3402\n",
      "Epoch 19 Loss 0.5774 Accuracy 0.3402\n",
      "Time taken for 1 epoch: 417.6165246963501 secs\n",
      "\n",
      "Epoch 20 Batch 0 Loss 0.4941 Accuracy 0.3771\n",
      "Epoch 20 Batch 50 Loss 0.5266 Accuracy 0.3565\n",
      "Epoch 20 Batch 100 Loss 0.5265 Accuracy 0.3540\n",
      "Epoch 20 Batch 150 Loss 0.5329 Accuracy 0.3525\n",
      "Epoch 20 Batch 200 Loss 0.5333 Accuracy 0.3509\n",
      "Epoch 20 Batch 250 Loss 0.5314 Accuracy 0.3484\n",
      "Epoch 20 Batch 300 Loss 0.5331 Accuracy 0.3480\n",
      "Epoch 20 Batch 350 Loss 0.5353 Accuracy 0.3474\n",
      "Epoch 20 Batch 400 Loss 0.5385 Accuracy 0.3474\n",
      "Epoch 20 Batch 450 Loss 0.5418 Accuracy 0.3467\n",
      "Epoch 20 Batch 500 Loss 0.5449 Accuracy 0.3461\n",
      "Epoch 20 Batch 550 Loss 0.5485 Accuracy 0.3455\n",
      "Epoch 20 Batch 600 Loss 0.5511 Accuracy 0.3447\n",
      "Epoch 20 Batch 650 Loss 0.5536 Accuracy 0.3441\n",
      "Epoch 20 Batch 700 Loss 0.5564 Accuracy 0.3436\n",
      "Checkpoint saved for epoch 19 at ./checkpoints/train/ckpt-4\n",
      "Epoch 20 Loss 0.5568 Accuracy 0.3436\n",
      "Time taken for 1 epoch: 417.6863114833832 secs\n",
      "\n"
     ]
    }
   ],
   "source": [
    "# checkpoints and training steps\n",
    "\n",
    "checkpoint_path = \"./checkpoints/train\"\n",
    "\n",
    "ckpt = tf.train.Checkpoint(transformer=transformer,\n",
    "                           optimizer=optimizer)\n",
    "\n",
    "ckpt_manager = tf.train.CheckpointManager(ckpt, checkpoint_path, max_to_keep=5)\n",
    "\n",
    "# if a checkpoint exists, restore the latest checkpoint.\n",
    "if ckpt_manager.latest_checkpoint:\n",
    "    ckpt.restore(ckpt_manager.latest_checkpoint)\n",
    "    print('Latest checkpoint restored!!')\n",
    "    \n",
    "\n",
    "# training stuff\n",
    "train_loss = tf.keras.metrics.Mean(name='train_loss')\n",
    "train_accuracy = tf.keras.metrics.SparseCategoricalAccuracy(name='train_accuracy')\n",
    "\n",
    "@tf.function(input_signature=[\n",
    "    tf.TensorSpec(shape=(None, None), dtype=tf.int64),\n",
    "    tf.TensorSpec(shape=(None, None), dtype=tf.int64),\n",
    "])\n",
    "def train_step(inp, tar):\n",
    "    tar_inp = tar[:, :-1]\n",
    "    tar_real = tar[:, 1:]\n",
    "  \n",
    "    enc_padding_mask, look_ahead_mask, dec_padding_mask = create_masks(inp, tar_inp)\n",
    "  \n",
    "    with tf.GradientTape() as tape:\n",
    "        predictions, _ = transformer(inp, tar_inp, \n",
    "                                     True, \n",
    "                                     enc_padding_mask, \n",
    "                                     look_ahead_mask, \n",
    "                                     dec_padding_mask)\n",
    "        loss = loss_function(tar_real, predictions)\n",
    "\n",
    "    gradients = tape.gradient(loss, transformer.trainable_variables)    \n",
    "    optimizer.apply_gradients(zip(gradients, transformer.trainable_variables))\n",
    "  \n",
    "    train_loss(loss)\n",
    "    train_accuracy(tar_real, predictions)\n",
    "\n",
    "    \n",
    "# training\n",
    "for epoch in range(EPOCHS):\n",
    "    start = time.time()\n",
    "    \n",
    "    train_loss.reset_states()\n",
    "    train_accuracy.reset_states()\n",
    "    \n",
    "    # inp -> portuguese, tar -> english\n",
    "    for (batch, (inp, tar)) in enumerate(train_dataset):\n",
    "        train_step(inp, tar)\n",
    "        \n",
    "        if batch % 50 == 0:\n",
    "            print(f\"Epoch {epoch + 1} Batch {batch} Loss {train_loss.result():.4f} Accuracy {train_accuracy.result():.4f}\")\n",
    "    \n",
    "    if (epoch + 1) % 5 == 0:\n",
    "        ckpt_save_path = ckpt_manager.save()\n",
    "        print(f\"Checkpoint saved for epoch {epoch} at {ckpt_save_path}\")\n",
    "        \n",
    "    print(f\"Epoch {epoch + 1} Loss {train_loss.result():.4f} Accuracy {train_accuracy.result():.4f}\")\n",
    "    print(f\"Time taken for 1 epoch: {time.time() - start} secs\\n\")"
   ]
  },
  {
   "cell_type": "code",
   "execution_count": 31,
   "metadata": {},
   "outputs": [
    {
     "name": "stdout",
     "output_type": "stream",
     "text": [
      "Latest checkpoint restored!!\n",
      "Model: \"transformer_1\"\n",
      "_________________________________________________________________\n",
      "Layer (type)                 Output Shape              Param #   \n",
      "=================================================================\n",
      "encoder_2 (Encoder)          multiple                  1844736   \n",
      "_________________________________________________________________\n",
      "decoder_2 (Decoder)          multiple                  2093696   \n",
      "_________________________________________________________________\n",
      "dense_151 (Dense)            multiple                  1043481   \n",
      "=================================================================\n",
      "Total params: 4,981,913\n",
      "Trainable params: 4,981,913\n",
      "Non-trainable params: 0\n",
      "_________________________________________________________________\n"
     ]
    }
   ],
   "source": [
    "# if a checkpoint exists, restore the latest checkpoint.\n",
    "if ckpt_manager.latest_checkpoint:\n",
    "    ckpt.restore(ckpt_manager.latest_checkpoint)\n",
    "    print('Latest checkpoint restored!!')\n",
    "\n",
    "transformer.summary()"
   ]
  },
  {
   "cell_type": "code",
   "execution_count": 33,
   "metadata": {},
   "outputs": [
    {
     "data": {
      "text/plain": [
       "<tf.Tensor: id=559773, shape=(22,), dtype=int32, numpy=\n",
       "array([8087,   16,   13,    7,  328,   10,   14,   24,    5,  821,   28,\n",
       "         13,   14,  195,  966,    7,  328,   28,   43,  423,  223,    2],\n",
       "      dtype=int32)>"
      ]
     },
     "execution_count": 33,
     "metadata": {},
     "output_type": "execute_result"
    }
   ],
   "source": [
    "def evaluate(inp_sentence):\n",
    "    start_token = [tokenizer_pt.vocab_size]\n",
    "    end_token = [tokenizer_pt.vocab_size + 1]\n",
    "  \n",
    "    # inp sentence is portuguese, hence adding the start and end token\n",
    "    inp_sentence = start_token + tokenizer_pt.encode(inp_sentence) + end_token\n",
    "    encoder_input = tf.expand_dims(inp_sentence, 0)\n",
    "  \n",
    "    # as the target is english, the first word to the transformer should be the\n",
    "    # english start token.\n",
    "    decoder_input = [tokenizer_en.vocab_size]\n",
    "    output = tf.expand_dims(decoder_input, 0)\n",
    "    \n",
    "    for i in range(MAX_LENGTH):\n",
    "        enc_padding_mask, combined_mask, dec_padding_mask = create_masks(\n",
    "            encoder_input,\n",
    "            output)\n",
    "  \n",
    "        # predictions.shape == (batch_size, seq_len, vocab_size)\n",
    "        predictions, attention_weights = transformer(encoder_input, \n",
    "                                                     output,\n",
    "                                                     False,\n",
    "                                                     enc_padding_mask,\n",
    "                                                     combined_mask,\n",
    "                                                     dec_padding_mask)\n",
    "    \n",
    "        # select the last word from the seq_len dimension\n",
    "        predictions = predictions[: ,-1:, :]  # (batch_size, 1, vocab_size)\n",
    "\n",
    "        predicted_id = tf.cast(tf.argmax(predictions, axis=-1), tf.int32)\n",
    "    \n",
    "        # return the result if the predicted_id is equal to the end token\n",
    "        if predicted_id == tokenizer_en.vocab_size+1:\n",
    "            return tf.squeeze(output, axis=0), attention_weights\n",
    "    \n",
    "        # concatentate the predicted_id to the output which is given to the decoder\n",
    "        # as its input.\n",
    "        output = tf.concat([output, predicted_id], axis=-1)\n",
    "\n",
    "    return tf.squeeze(output, axis=0), attention_weights\n",
    "\n",
    "\n",
    "evaluate(\"este é um problema que temos que resolver.\")[0]"
   ]
  },
  {
   "cell_type": "code",
   "execution_count": 59,
   "metadata": {},
   "outputs": [
    {
     "name": "stdout",
     "output_type": "stream",
     "text": [
      "Input: este é um problema que temos que resolver.\n",
      "Predicted translation: this is a problem that we have to deal with is we should solve a problem with our kids today .\n",
      "Real translation: this is a problem we have to solve .\n"
     ]
    }
   ],
   "source": [
    "def plot_attention_weights(attention, sentence, result, layer=None, block=None):\n",
    "    fig = plt.figure(figsize=(16, 8))\n",
    "    sentence = tokenizer_pt.encode(sentence)\n",
    "    attention = tf.squeeze(attention[layer][block], axis=0)\n",
    "\n",
    "    for head in range(attention.shape[0]):\n",
    "        ax = fig.add_subplot(2, 4, head+1)\n",
    "    \n",
    "        # plot the attention weights\n",
    "        ax.matshow(attention[head][:-1, :], cmap='viridis')\n",
    "\n",
    "        fontdict = {'fontsize': 10}\n",
    "    \n",
    "        ax.set_xticks(range(len(sentence)+2))\n",
    "        ax.set_yticks(range(len(result)))\n",
    "    \n",
    "        ax.set_ylim(len(result)-1.5, -0.5)\n",
    "        \n",
    "        ax.set_xticklabels(\n",
    "            ['<start>']+[tokenizer_pt.decode([i]) for i in sentence]+['<end>'], \n",
    "            fontdict=fontdict, rotation=90)\n",
    "    \n",
    "        ax.set_yticklabels([tokenizer_en.decode([i])\n",
    "                            for i in result \n",
    "                            if i < tokenizer_en.vocab_size], \n",
    "                            fontdict=fontdict)\n",
    "    \n",
    "        ax.set_xlabel('Head {}'.format(head+1))\n",
    "  \n",
    "    plt.tight_layout()\n",
    "    plt.show()\n",
    "\n",
    "    \n",
    "def translate(sentence, layer=None, block=None):\n",
    "    result, attention_weights = evaluate(sentence)\n",
    "    predicted_sentence = tokenizer_en.decode([i for i in result \n",
    "                                              if i < tokenizer_en.vocab_size])  \n",
    "\n",
    "    print('Input: {}'.format(sentence))\n",
    "    print('Predicted translation: {}'.format(predicted_sentence))\n",
    "  \n",
    "    if layer and block:\n",
    "        plot_attention_weights(attention_weights, sentence, result, layer=layer, block=block)\n",
    "\n",
    "\n",
    "translate(\"este é um problema que temos que resolver.\")\n",
    "print(\"Real translation: this is a problem we have to solve .\")"
   ]
  },
  {
   "cell_type": "code",
   "execution_count": 60,
   "metadata": {},
   "outputs": [
    {
     "name": "stdout",
     "output_type": "stream",
     "text": [
      "Input: os meus vizinhos ouviram sobre esta ideia.\n",
      "Predicted translation: my neighbors heard about this idea .\n",
      "Real translation: and my neighboring homes heard about this idea .\n"
     ]
    }
   ],
   "source": [
    "translate(\"os meus vizinhos ouviram sobre esta ideia.\")\n",
    "print(\"Real translation: and my neighboring homes heard about this idea .\")\n"
   ]
  },
  {
   "cell_type": "code",
   "execution_count": 61,
   "metadata": {},
   "outputs": [
    {
     "name": "stdout",
     "output_type": "stream",
     "text": [
      "Input: vou então muito rapidamente partilhar convosco algumas histórias de algumas coisas mágicas que aconteceram.\n",
      "Predicted translation: so i 'm very quickly to share with you some little magic stories that happened .\n",
      "Real translation: so i 'll just share with you some stories very quickly of some magical things that have happened .\n"
     ]
    }
   ],
   "source": [
    "translate(\"vou então muito rapidamente partilhar convosco algumas histórias de algumas coisas mágicas que aconteceram.\")\n",
    "print (\"Real translation: so i 'll just share with you some stories very quickly of some magical things that have happened .\")"
   ]
  },
  {
   "cell_type": "code",
   "execution_count": 62,
   "metadata": {},
   "outputs": [
    {
     "name": "stdout",
     "output_type": "stream",
     "text": [
      "Input: este é o primeiro livro que eu fiz.\n",
      "Predicted translation: this is the first book that i did was done .\n"
     ]
    },
    {
     "data": {
      "image/png": "[encoded data removed]",
      "text/plain": [
       "<Figure size 1152x576 with 8 Axes>"
      ]
     },
     "metadata": {
      "needs_background": "light"
     },
     "output_type": "display_data"
    },
    {
     "name": "stdout",
     "output_type": "stream",
     "text": [
      "Real translation: this is the first book i've ever done.\n"
     ]
    }
   ],
   "source": [
    "translate(\"este é o primeiro livro que eu fiz.\", layer=4, block='block2')\n",
    "print (\"Real translation: this is the first book i've ever done.\")"
   ]
  },
  {
   "cell_type": "code",
   "execution_count": null,
   "metadata": {},
   "outputs": [],
   "source": []
  },
  {
   "cell_type": "code",
   "execution_count": null,
   "metadata": {},
   "outputs": [],
   "source": []
  }
 ],
 "metadata": {
  "kernelspec": {
   "display_name": "Python 3",
   "language": "python",
   "name": "python3"
  },
  "language_info": {
   "codemirror_mode": {
    "name": "ipython",
    "version": 3
   },
   "file_extension": ".py",
   "mimetype": "text/x-python",
   "name": "python",
   "nbconvert_exporter": "python",
   "pygments_lexer": "ipython3",
   "version": "3.6.8"
  }
 },
 "nbformat": 4,
 "nbformat_minor": 2
}
